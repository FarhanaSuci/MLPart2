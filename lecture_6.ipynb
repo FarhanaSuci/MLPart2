{
 "cells": [
  {
   "cell_type": "markdown",
   "id": "f244ae9f-e2b3-4487-a1b7-1c4bd3f86e9c",
   "metadata": {},
   "source": [
    "# Chapter 13"
   ]
  },
  {
   "cell_type": "markdown",
   "id": "53355d0e-d38b-4324-a190-b15ae1871916",
   "metadata": {},
   "source": [
    "# Classification"
   ]
  },
  {
   "cell_type": "markdown",
   "id": "f3cca7fa-e93d-4215-8c46-661335a851a6",
   "metadata": {},
   "source": [
    "# Compare Machine Learning Algorithms"
   ]
  },
  {
   "cell_type": "markdown",
   "id": "759b80fb-297d-4daf-afbf-a4925b8f364a",
   "metadata": {},
   "source": [
    "1.Logistic Regression."
   ]
  },
  {
   "cell_type": "markdown",
   "id": "1a94af38-6d5a-49f6-9263-b6596eb270f1",
   "metadata": {},
   "source": [
    " 2.Linear Discriminant Analysis"
   ]
  },
  {
   "cell_type": "markdown",
   "id": "b81d3a44-37c5-44ba-b6a5-c2b62798a6ca",
   "metadata": {},
   "source": [
    "3.k-Nearest Neighbors."
   ]
  },
  {
   "cell_type": "markdown",
   "id": "3f1c2878-cdc3-4adc-bbe4-595c14aef81f",
   "metadata": {},
   "source": [
    "4.Classification and Regression Trees"
   ]
  },
  {
   "cell_type": "markdown",
   "id": "ac43ac09-b11e-4abc-b869-7d54b94a8fc4",
   "metadata": {},
   "source": [
    "5.Naive Bayes."
   ]
  },
  {
   "cell_type": "markdown",
   "id": "17ef6641-10fb-4481-ae60-af1903290b8d",
   "metadata": {},
   "source": [
    "6.Support Vector Machines."
   ]
  },
  {
   "cell_type": "code",
   "execution_count": 43,
   "id": "650b846a-53bb-4a30-be2b-0772bfff4b03",
   "metadata": {},
   "outputs": [],
   "source": [
    "import warnings\n",
    "warnings.filterwarnings(\"ignore\")"
   ]
  },
  {
   "cell_type": "code",
   "execution_count": 44,
   "id": "1961a96f-85d2-43a7-aada-6fbf7c416db8",
   "metadata": {},
   "outputs": [
    {
     "name": "stdout",
     "output_type": "stream",
     "text": [
      "LR: 0.778640 (0.047350)\n",
      "LDA: 0.766969 (0.047966)\n",
      "KNN: 0.710988 (0.050792)\n",
      "CART: 0.692874 (0.054738)\n",
      "NB: 0.759142 (0.038960)\n",
      "SVM: 0.760458 (0.034712)\n"
     ]
    },
    {
     "data": {
      "image/png": "[encoded data removed]",
      "text/plain": [
       "<Figure size 640x480 with 1 Axes>"
      ]
     },
     "metadata": {},
     "output_type": "display_data"
    }
   ],
   "source": [
    " from pandas import read_csv\n",
    " from matplotlib import pyplot\n",
    " from sklearn.model_selection import KFold\n",
    " from sklearn.model_selection import cross_val_score\n",
    " from sklearn.linear_model import LogisticRegression\n",
    " from sklearn.tree import DecisionTreeClassifier\n",
    " from sklearn.neighbors import KNeighborsClassifier\n",
    " from sklearn.discriminant_analysis import LinearDiscriminantAnalysis\n",
    " from sklearn.naive_bayes import GaussianNB\n",
    " from sklearn.svm import SVC\n",
    " # load dataset\n",
    " filename = 'pima-indians-diabetes.csv'\n",
    " names = ['preg', 'plas', 'pres', 'skin', 'test', 'mass', 'pedi', 'age', 'class']\n",
    " dataframe = read_csv(filename, names=names)\n",
    " array = dataframe.values\n",
    " X = array[:,0:8]\n",
    " Y = array[:,8]\n",
    " # prepare models\n",
    " models = []\n",
    " models.append(('LR', LogisticRegression()))\n",
    " models.append(('LDA', LinearDiscriminantAnalysis()))\n",
    " models.append(('KNN', KNeighborsClassifier()))\n",
    " models.append(('CART', DecisionTreeClassifier()))\n",
    " models.append(('NB', GaussianNB()))\n",
    " models.append(('SVM', SVC()))\n",
    " # evaluate each model in turn\n",
    " results = []\n",
    " names = []\n",
    " scoring = 'accuracy'\n",
    " for name, model in models:\n",
    "     kfold = KFold(n_splits=10, random_state=7,shuffle=True)\n",
    "     cv_results = cross_val_score(model, X, Y, cv=kfold, scoring=scoring)\n",
    "     results.append(cv_results)\n",
    "     names.append(name)\n",
    "     msg = \"%s: %f (%f)\" % (name, cv_results.mean(), cv_results.std())\n",
    "     print(msg)\n",
    " # boxplot algorithm comparison\n",
    " fig = pyplot.figure()\n",
    " fig.suptitle('Algorithm Comparison')\n",
    " ax = fig.add_subplot(111)\n",
    " pyplot.boxplot(results)\n",
    " ax.set_xticklabels(names)\n",
    " pyplot.show()"
   ]
  },
  {
   "cell_type": "markdown",
   "id": "cd7c8d00-9e41-4a29-811b-83558025d29e",
   "metadata": {},
   "source": [
    "# Regression"
   ]
  },
  {
   "cell_type": "markdown",
   "id": "0a402adb-0065-463b-a507-8a19e13d9e05",
   "metadata": {},
   "source": [
    "1.Linear Regression¶"
   ]
  },
  {
   "cell_type": "markdown",
   "id": "988b07eb-d7e8-4aa3-b749-2329d26d4362",
   "metadata": {},
   "source": [
    "2.Ridge Regression"
   ]
  },
  {
   "cell_type": "markdown",
   "id": "0aea303c-b9b4-48e1-a9a5-aa5d73c79786",
   "metadata": {},
   "source": [
    "3.LASSO Regression"
   ]
  },
  {
   "cell_type": "markdown",
   "id": "9c470441-cc56-499c-a6a4-6dc43eb27deb",
   "metadata": {},
   "source": [
    "4.ElasticNet Regression"
   ]
  },
  {
   "cell_type": "markdown",
   "id": "083c4557-8297-4cfc-8861-b0b301126925",
   "metadata": {},
   "source": [
    "5.K-Nearest Neighbors"
   ]
  },
  {
   "cell_type": "markdown",
   "id": "775a947c-3785-407a-a712-2326a3beb0f1",
   "metadata": {},
   "source": [
    "6.Classification and Regression Trees"
   ]
  },
  {
   "cell_type": "markdown",
   "id": "ef3789fb-add7-40cd-bcdd-cac519c46ece",
   "metadata": {},
   "source": [
    "7.Support Vector Machines"
   ]
  },
  {
   "cell_type": "code",
   "execution_count": 45,
   "id": "3a836490-7ef6-4963-a139-b4c3780cbccf",
   "metadata": {},
   "outputs": [],
   "source": [
    "import pandas as pd"
   ]
  },
  {
   "cell_type": "code",
   "execution_count": 46,
   "id": "8fe0bad3-1c7b-408a-8671-5983ad326e62",
   "metadata": {},
   "outputs": [],
   "source": [
    "dataframe=pd.read_csv('weight-height.csv')"
   ]
  },
  {
   "cell_type": "code",
   "execution_count": 47,
   "id": "8566749a-e986-4f7b-8ce8-d5ec1260e899",
   "metadata": {},
   "outputs": [
    {
     "data": {
      "text/html": [
       "<div>\n",
       "<style scoped>\n",
       "    .dataframe tbody tr th:only-of-type {\n",
       "        vertical-align: middle;\n",
       "    }\n",
       "\n",
       "    .dataframe tbody tr th {\n",
       "        vertical-align: top;\n",
       "    }\n",
       "\n",
       "    .dataframe thead th {\n",
       "        text-align: right;\n",
       "    }\n",
       "</style>\n",
       "<table border=\"1\" class=\"dataframe\">\n",
       "  <thead>\n",
       "    <tr style=\"text-align: right;\">\n",
       "      <th></th>\n",
       "      <th>Gender</th>\n",
       "      <th>Height</th>\n",
       "      <th>Weight</th>\n",
       "    </tr>\n",
       "  </thead>\n",
       "  <tbody>\n",
       "    <tr>\n",
       "      <th>0</th>\n",
       "      <td>Male</td>\n",
       "      <td>73.847017</td>\n",
       "      <td>241.893563</td>\n",
       "    </tr>\n",
       "    <tr>\n",
       "      <th>1</th>\n",
       "      <td>Male</td>\n",
       "      <td>68.781904</td>\n",
       "      <td>162.310473</td>\n",
       "    </tr>\n",
       "    <tr>\n",
       "      <th>2</th>\n",
       "      <td>Male</td>\n",
       "      <td>74.110105</td>\n",
       "      <td>212.740856</td>\n",
       "    </tr>\n",
       "    <tr>\n",
       "      <th>3</th>\n",
       "      <td>Male</td>\n",
       "      <td>71.730978</td>\n",
       "      <td>220.042470</td>\n",
       "    </tr>\n",
       "    <tr>\n",
       "      <th>4</th>\n",
       "      <td>Male</td>\n",
       "      <td>69.881796</td>\n",
       "      <td>206.349801</td>\n",
       "    </tr>\n",
       "    <tr>\n",
       "      <th>...</th>\n",
       "      <td>...</td>\n",
       "      <td>...</td>\n",
       "      <td>...</td>\n",
       "    </tr>\n",
       "    <tr>\n",
       "      <th>9995</th>\n",
       "      <td>Female</td>\n",
       "      <td>66.172652</td>\n",
       "      <td>136.777454</td>\n",
       "    </tr>\n",
       "    <tr>\n",
       "      <th>9996</th>\n",
       "      <td>Female</td>\n",
       "      <td>67.067155</td>\n",
       "      <td>170.867906</td>\n",
       "    </tr>\n",
       "    <tr>\n",
       "      <th>9997</th>\n",
       "      <td>Female</td>\n",
       "      <td>63.867992</td>\n",
       "      <td>128.475319</td>\n",
       "    </tr>\n",
       "    <tr>\n",
       "      <th>9998</th>\n",
       "      <td>Female</td>\n",
       "      <td>69.034243</td>\n",
       "      <td>163.852461</td>\n",
       "    </tr>\n",
       "    <tr>\n",
       "      <th>9999</th>\n",
       "      <td>Female</td>\n",
       "      <td>61.944246</td>\n",
       "      <td>113.649103</td>\n",
       "    </tr>\n",
       "  </tbody>\n",
       "</table>\n",
       "<p>10000 rows × 3 columns</p>\n",
       "</div>"
      ],
      "text/plain": [
       "      Gender     Height      Weight\n",
       "0       Male  73.847017  241.893563\n",
       "1       Male  68.781904  162.310473\n",
       "2       Male  74.110105  212.740856\n",
       "3       Male  71.730978  220.042470\n",
       "4       Male  69.881796  206.349801\n",
       "...      ...        ...         ...\n",
       "9995  Female  66.172652  136.777454\n",
       "9996  Female  67.067155  170.867906\n",
       "9997  Female  63.867992  128.475319\n",
       "9998  Female  69.034243  163.852461\n",
       "9999  Female  61.944246  113.649103\n",
       "\n",
       "[10000 rows x 3 columns]"
      ]
     },
     "execution_count": 47,
     "metadata": {},
     "output_type": "execute_result"
    }
   ],
   "source": [
    "dataframe"
   ]
  },
  {
   "cell_type": "code",
   "execution_count": 48,
   "id": "ca253994-e26a-48b3-b767-05a6ef9ffa69",
   "metadata": {},
   "outputs": [
    {
     "data": {
      "text/plain": [
       "(10000, 3)"
      ]
     },
     "execution_count": 48,
     "metadata": {},
     "output_type": "execute_result"
    }
   ],
   "source": [
    "dataframe.shape"
   ]
  },
  {
   "cell_type": "code",
   "execution_count": 49,
   "id": "f9bdd386-f359-4efe-9e74-8a040af08b8c",
   "metadata": {},
   "outputs": [],
   "source": [
    "from sklearn.preprocessing import LabelEncoder"
   ]
  },
  {
   "cell_type": "code",
   "execution_count": 50,
   "id": "decd46af-7721-44d8-9797-40ffef6b26e6",
   "metadata": {},
   "outputs": [],
   "source": [
    "code=LabelEncoder()"
   ]
  },
  {
   "cell_type": "code",
   "execution_count": 51,
   "id": "a87efc45-72f0-47c0-8032-0c448c97d817",
   "metadata": {},
   "outputs": [],
   "source": [
    "#df=pd.get_dummies(dataframe)"
   ]
  },
  {
   "cell_type": "code",
   "execution_count": 52,
   "id": "4cf93cf9-b3d7-4c9e-b3e3-115908a36824",
   "metadata": {},
   "outputs": [],
   "source": [
    "dataframe['Gender']=code.fit_transform(dataframe['Gender'])"
   ]
  },
  {
   "cell_type": "code",
   "execution_count": 53,
   "id": "f3059e43-a544-4270-9183-0b4436fbd6dc",
   "metadata": {},
   "outputs": [
    {
     "data": {
      "text/html": [
       "<div>\n",
       "<style scoped>\n",
       "    .dataframe tbody tr th:only-of-type {\n",
       "        vertical-align: middle;\n",
       "    }\n",
       "\n",
       "    .dataframe tbody tr th {\n",
       "        vertical-align: top;\n",
       "    }\n",
       "\n",
       "    .dataframe thead th {\n",
       "        text-align: right;\n",
       "    }\n",
       "</style>\n",
       "<table border=\"1\" class=\"dataframe\">\n",
       "  <thead>\n",
       "    <tr style=\"text-align: right;\">\n",
       "      <th></th>\n",
       "      <th>Gender</th>\n",
       "      <th>Height</th>\n",
       "      <th>Weight</th>\n",
       "    </tr>\n",
       "  </thead>\n",
       "  <tbody>\n",
       "    <tr>\n",
       "      <th>0</th>\n",
       "      <td>1</td>\n",
       "      <td>73.847017</td>\n",
       "      <td>241.893563</td>\n",
       "    </tr>\n",
       "    <tr>\n",
       "      <th>1</th>\n",
       "      <td>1</td>\n",
       "      <td>68.781904</td>\n",
       "      <td>162.310473</td>\n",
       "    </tr>\n",
       "    <tr>\n",
       "      <th>2</th>\n",
       "      <td>1</td>\n",
       "      <td>74.110105</td>\n",
       "      <td>212.740856</td>\n",
       "    </tr>\n",
       "    <tr>\n",
       "      <th>3</th>\n",
       "      <td>1</td>\n",
       "      <td>71.730978</td>\n",
       "      <td>220.042470</td>\n",
       "    </tr>\n",
       "    <tr>\n",
       "      <th>4</th>\n",
       "      <td>1</td>\n",
       "      <td>69.881796</td>\n",
       "      <td>206.349801</td>\n",
       "    </tr>\n",
       "    <tr>\n",
       "      <th>...</th>\n",
       "      <td>...</td>\n",
       "      <td>...</td>\n",
       "      <td>...</td>\n",
       "    </tr>\n",
       "    <tr>\n",
       "      <th>9995</th>\n",
       "      <td>0</td>\n",
       "      <td>66.172652</td>\n",
       "      <td>136.777454</td>\n",
       "    </tr>\n",
       "    <tr>\n",
       "      <th>9996</th>\n",
       "      <td>0</td>\n",
       "      <td>67.067155</td>\n",
       "      <td>170.867906</td>\n",
       "    </tr>\n",
       "    <tr>\n",
       "      <th>9997</th>\n",
       "      <td>0</td>\n",
       "      <td>63.867992</td>\n",
       "      <td>128.475319</td>\n",
       "    </tr>\n",
       "    <tr>\n",
       "      <th>9998</th>\n",
       "      <td>0</td>\n",
       "      <td>69.034243</td>\n",
       "      <td>163.852461</td>\n",
       "    </tr>\n",
       "    <tr>\n",
       "      <th>9999</th>\n",
       "      <td>0</td>\n",
       "      <td>61.944246</td>\n",
       "      <td>113.649103</td>\n",
       "    </tr>\n",
       "  </tbody>\n",
       "</table>\n",
       "<p>10000 rows × 3 columns</p>\n",
       "</div>"
      ],
      "text/plain": [
       "      Gender     Height      Weight\n",
       "0          1  73.847017  241.893563\n",
       "1          1  68.781904  162.310473\n",
       "2          1  74.110105  212.740856\n",
       "3          1  71.730978  220.042470\n",
       "4          1  69.881796  206.349801\n",
       "...      ...        ...         ...\n",
       "9995       0  66.172652  136.777454\n",
       "9996       0  67.067155  170.867906\n",
       "9997       0  63.867992  128.475319\n",
       "9998       0  69.034243  163.852461\n",
       "9999       0  61.944246  113.649103\n",
       "\n",
       "[10000 rows x 3 columns]"
      ]
     },
     "execution_count": 53,
     "metadata": {},
     "output_type": "execute_result"
    }
   ],
   "source": [
    "dataframe"
   ]
  },
  {
   "cell_type": "code",
   "execution_count": 54,
   "id": "347368f1-a5b9-413f-92a4-d1f8383e6912",
   "metadata": {},
   "outputs": [
    {
     "name": "stdout",
     "output_type": "stream",
     "text": [
      "Linear: 0.648844 (0.013139)\n",
      "Ridge: 0.648844 (0.013138)\n",
      "LASSO: 0.630561 (0.011712)\n",
      "ElasticNet: 0.633444 (0.011807)\n",
      "KNN: 0.703607 (0.018677)\n",
      "CRT: 0.493705 (0.038242)\n",
      "SVM: 0.723593 (0.018765)\n"
     ]
    },
    {
     "data": {
      "image/png": "[encoded data removed]",
      "text/plain": [
       "<Figure size 640x480 with 1 Axes>"
      ]
     },
     "metadata": {},
     "output_type": "display_data"
    }
   ],
   "source": [
    " from pandas import read_csv\n",
    " from matplotlib import pyplot\n",
    " from sklearn.model_selection import KFold\n",
    " from sklearn.model_selection import cross_val_score\n",
    " from sklearn.linear_model import LinearRegression\n",
    " from sklearn.linear_model import Ridge\n",
    " from sklearn.linear_model import Lasso\n",
    " from sklearn.linear_model import ElasticNet\n",
    " from sklearn.neighbors import KNeighborsRegressor\n",
    " from sklearn.tree import DecisionTreeRegressor\n",
    " from sklearn.svm import SVR\n",
    " # load dataset\n",
    " array = dataframe.values\n",
    " X = array[:,1:]\n",
    " Y = array[:,0]\n",
    " # prepare models\n",
    " models = []\n",
    " models.append(('Linear', LinearRegression()))\n",
    " models.append(('Ridge', Ridge()))\n",
    " models.append(('LASSO', Lasso()))\n",
    " models.append(('ElasticNet', ElasticNet()))\n",
    " models.append(('KNN', KNeighborsRegressor()))\n",
    " models.append(('CRT', DecisionTreeRegressor()))\n",
    " models.append(('SVM', SVR()))\n",
    " # evaluate each model in turn\n",
    " results = []\n",
    " names = []\n",
    " scoring = 'r2' \n",
    " for name, model in models:\n",
    "     kfold = KFold(n_splits=10, random_state=7,shuffle=True)\n",
    "     cv_results = cross_val_score(model, X, Y, cv=kfold, scoring=scoring)\n",
    "     results.append(cv_results)\n",
    "     names.append(name)\n",
    "     msg = \"%s: %f (%f)\" % (name, cv_results.mean(), cv_results.std())\n",
    "     print(msg)\n",
    " # boxplot algorithm comparison\n",
    " fig = pyplot.figure()\n",
    " fig.suptitle('Algorithm Comparison')\n",
    " ax = fig.add_subplot(111)\n",
    " pyplot.boxplot(results)\n",
    " ax.set_xticklabels(names)\n",
    " pyplot.show()"
   ]
  },
  {
   "cell_type": "code",
   "execution_count": 55,
   "id": "761a38d8-7cf8-424a-83da-02253a9803b6",
   "metadata": {},
   "outputs": [
    {
     "name": "stdout",
     "output_type": "stream",
     "text": [
      "Linear: 0.648844 (0.013139)\n",
      "Ridge: 0.648844 (0.013138)\n",
      "LASSO: 0.630561 (0.011712)\n",
      "ElasticNet: 0.633444 (0.011807)\n",
      "KNN: 0.703607 (0.018677)\n",
      "CRT: 0.496906 (0.045868)\n",
      "SVM: 0.723593 (0.018765)\n"
     ]
    },
    {
     "data": {
      "image/png": "[encoded data removed]",
      "text/plain": [
       "<Figure size 640x480 with 1 Axes>"
      ]
     },
     "metadata": {},
     "output_type": "display_data"
    }
   ],
   "source": [
    "from pandas import read_csv\n",
    "from matplotlib import pyplot\n",
    "from sklearn.model_selection import KFold\n",
    "from sklearn.model_selection import cross_val_score\n",
    "from sklearn.linear_model import LinearRegression\n",
    "from sklearn.linear_model import Ridge\n",
    "from sklearn.linear_model import Lasso\n",
    "from sklearn.linear_model import ElasticNet\n",
    "from sklearn.neighbors import KNeighborsRegressor\n",
    "from sklearn.tree import DecisionTreeRegressor\n",
    "from sklearn.svm import SVR\n",
    "\n",
    "# Load dataset\n",
    "# Assume `dataframe` is already defined. Replace this with your actual dataset loading code.\n",
    "array = dataframe.values\n",
    "X = array[:, 1:]\n",
    "Y = array[:, 0]\n",
    "\n",
    "# Prepare models\n",
    "models = []\n",
    "models.append(('Linear', LinearRegression()))\n",
    "models.append(('Ridge', Ridge()))\n",
    "models.append(('LASSO', Lasso()))\n",
    "models.append(('ElasticNet', ElasticNet()))\n",
    "models.append(('KNN', KNeighborsRegressor()))\n",
    "models.append(('CRT', DecisionTreeRegressor()))\n",
    "models.append(('SVM', SVR()))\n",
    "\n",
    "# Evaluate each model in turn\n",
    "results = []\n",
    "names = []\n",
    "scoring = 'r2'  # Use an appropriate regression metric\n",
    "\n",
    "for name, model in models:\n",
    "    kfold = KFold(n_splits=10, random_state=7, shuffle=True)\n",
    "    cv_results = cross_val_score(model, X, Y, cv=kfold, scoring=scoring)\n",
    "    results.append(cv_results)\n",
    "    names.append(name)\n",
    "    msg = \"%s: %f (%f)\" % (name, cv_results.mean(), cv_results.std())\n",
    "    print(msg)\n",
    "\n",
    "# Boxplot algorithm comparison\n",
    "fig = pyplot.figure()\n",
    "fig.suptitle('Algorithm Comparison')\n",
    "ax = fig.add_subplot(111)\n",
    "pyplot.boxplot(results)\n",
    "ax.set_xticklabels(names)\n",
    "pyplot.show()\n"
   ]
  },
  {
   "cell_type": "code",
   "execution_count": null,
   "id": "528b4960-d02a-4b0f-931c-76813a530a44",
   "metadata": {},
   "outputs": [],
   "source": []
  }
 ],
 "metadata": {
  "kernelspec": {
   "display_name": "Python 3 (ipykernel)",
   "language": "python",
   "name": "python3"
  },
  "language_info": {
   "codemirror_mode": {
    "name": "ipython",
    "version": 3
   },
   "file_extension": ".py",
   "mimetype": "text/x-python",
   "name": "python",
   "nbconvert_exporter": "python",
   "pygments_lexer": "ipython3",
   "version": "3.12.3"
  }
 },
 "nbformat": 4,
 "nbformat_minor": 5
}
