{
 "cells": [
  {
   "cell_type": "markdown",
   "id": "3a43994c-4094-41e7-9d58-47b6994492eb",
   "metadata": {},
   "source": [
    "# Bagged Decision Trees for Classification"
   ]
  },
  {
   "cell_type": "code",
   "execution_count": 3,
   "id": "835b762f-0d73-4ab3-82fe-39bdbe3a7291",
   "metadata": {},
   "outputs": [
    {
     "name": "stdout",
     "output_type": "stream",
     "text": [
      "77.60252904989747\n"
     ]
    }
   ],
   "source": [
    "from pandas import read_csv\n",
    "from sklearn.model_selection import KFold\n",
    "from sklearn.model_selection import cross_val_score\n",
    "from sklearn.ensemble import BaggingClassifier\n",
    "from sklearn.tree import DecisionTreeClassifier\n",
    "import warnings\n",
    "\n",
    "warnings.filterwarnings(\"ignore\")\n",
    "\n",
    "# Load data\n",
    "filename = 'pima-indians-diabetes.csv'\n",
    "names = ['preg', 'plas', 'pres', 'skin', 'test', 'mass', 'pedi', 'age', 'class']\n",
    "dataframe = read_csv(filename, names=names)\n",
    "array = dataframe.values\n",
    "X = array[:, 0:8]\n",
    "Y = array[:, 8]\n",
    "\n",
    "# Define model and evaluation procedure\n",
    "kfold = KFold(n_splits=10)\n",
    "cart = DecisionTreeClassifier()\n",
    "num_trees = 100\n",
    "\n",
    "# Update parameter 'base_estimator' to 'estimator'\n",
    "model = BaggingClassifier(estimator=cart, n_estimators=num_trees)\n",
    "\n",
    "# Evaluate model\n",
    "results = cross_val_score(model, X, Y, cv=kfold)\n",
    "print(results.mean() * 100)\n"
   ]
  },
  {
   "cell_type": "code",
   "execution_count": 4,
   "id": "df982115-a55b-4d8e-8423-63e0fe2e04a0",
   "metadata": {},
   "outputs": [
    {
     "name": "stdout",
     "output_type": "stream",
     "text": [
      "73.55946684894053\n"
     ]
    }
   ],
   "source": [
    " from pandas import read_csv\n",
    " from sklearn.model_selection import KFold\n",
    " from sklearn.model_selection import cross_val_score\n",
    " from sklearn.ensemble import BaggingClassifier\n",
    " from sklearn.discriminant_analysis import LinearDiscriminantAnalysis\n",
    " import warnings\n",
    " warnings.filterwarnings(\"ignore\")\n",
    " # load data\n",
    " filename = 'pima-indians-diabetes.csv'\n",
    " names = ['preg', 'plas', 'pres', 'skin', 'test', 'mass', 'pedi', 'age', 'class']\n",
    " dataframe = read_csv(filename, names=names)\n",
    " array = dataframe.values\n",
    " X = array[:,0:8]\n",
    " Y = array[:,8]\n",
    " kfold = KFold(n_splits=10)\n",
    " cart = DecisionTreeClassifier()\n",
    " num_trees = 10\n",
    " model = BaggingClassifier(estimator=cart, n_estimators=num_trees)\n",
    " results = cross_val_score(model, X, Y, cv=kfold)\n",
    " print(results.mean()*100)"
   ]
  },
  {
   "cell_type": "markdown",
   "id": "ef516dd3-8d51-4466-a1d8-efd435733d3e",
   "metadata": {},
   "source": [
    "# Random Forest Classification"
   ]
  },
  {
   "cell_type": "code",
   "execution_count": 7,
   "id": "c482b7b6-d263-453a-abb5-42410ec1bd33",
   "metadata": {},
   "outputs": [
    {
     "name": "stdout",
     "output_type": "stream",
     "text": [
      "76.81818181818181\n"
     ]
    }
   ],
   "source": [
    " from pandas import read_csv\n",
    " from sklearn.model_selection import KFold\n",
    " from sklearn.model_selection import cross_val_score\n",
    " from sklearn.ensemble import RandomForestClassifier\n",
    " import warnings\n",
    " warnings.filterwarnings(\"ignore\")\n",
    " # load data\n",
    " filename = 'pima-indians-diabetes.csv'\n",
    " names = ['preg', 'plas', 'pres', 'skin', 'test', 'mass', 'pedi', 'age', 'class']\n",
    " dataframe = read_csv(filename, names=names)\n",
    " array = dataframe.values\n",
    " X = array[:,0:8]\n",
    " Y = array[:,8]\n",
    " num_trees = 100\n",
    " max_features = 3\n",
    " kfold = KFold(n_splits=10)\n",
    " model = RandomForestClassifier(n_estimators=num_trees, max_features=max_features)\n",
    " results = cross_val_score(model, X, Y, cv=kfold)\n",
    " print(results.mean()*100)"
   ]
  },
  {
   "cell_type": "markdown",
   "id": "cda00988-53f2-4cc3-98e6-ec82cd9858ae",
   "metadata": {},
   "source": [
    "#  Extra Trees Classification"
   ]
  },
  {
   "cell_type": "code",
   "execution_count": 10,
   "id": "57273216-cb40-46fe-bfc5-c81ba5866c48",
   "metadata": {},
   "outputs": [
    {
     "name": "stdout",
     "output_type": "stream",
     "text": [
      "76.68831168831169\n"
     ]
    }
   ],
   "source": [
    " # Extra Trees Classification\n",
    " from pandas import read_csv\n",
    " from sklearn.model_selection import KFold\n",
    " from sklearn.model_selection import cross_val_score\n",
    " from sklearn.ensemble import ExtraTreesClassifier\n",
    " import warnings\n",
    " warnings.filterwarnings(\"ignore\")\n",
    " # load data\n",
    " filename = 'pima-indians-diabetes.csv'\n",
    " names = ['preg', 'plas', 'pres', 'skin', 'test', 'mass', 'pedi', 'age', 'class']\n",
    " dataframe = read_csv(filename, names=names)\n",
    " array = dataframe.values\n",
    " X = array[:,0:8]\n",
    " Y = array[:,8]\n",
    " num_trees = 100\n",
    " max_features = 3\n",
    " kfold = KFold(n_splits=10)\n",
    " model = ExtraTreesClassifier(n_estimators=num_trees, max_features=max_features)\n",
    " results = cross_val_score(model, X, Y, cv=kfold)\n",
    " print(results.mean()*100)"
   ]
  },
  {
   "cell_type": "code",
   "execution_count": null,
   "id": "1dbe8da5-11d6-4b2b-a31f-454fb430a786",
   "metadata": {},
   "outputs": [],
   "source": []
  }
 ],
 "metadata": {
  "kernelspec": {
   "display_name": "Python 3 (ipykernel)",
   "language": "python",
   "name": "python3"
  },
  "language_info": {
   "codemirror_mode": {
    "name": "ipython",
    "version": 3
   },
   "file_extension": ".py",
   "mimetype": "text/x-python",
   "name": "python",
   "nbconvert_exporter": "python",
   "pygments_lexer": "ipython3",
   "version": "3.12.3"
  }
 },
 "nbformat": 4,
 "nbformat_minor": 5
}
