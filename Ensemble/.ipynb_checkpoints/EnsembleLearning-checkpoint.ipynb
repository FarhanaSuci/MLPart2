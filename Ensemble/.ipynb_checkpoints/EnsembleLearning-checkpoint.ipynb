{
 "cells": [
  {
   "cell_type": "markdown",
   "id": "3a43994c-4094-41e7-9d58-47b6994492eb",
   "metadata": {},
   "source": [
    "# Bagged Decision Trees for Classification"
   ]
  },
  {
   "cell_type": "code",
   "execution_count": 27,
   "id": "835b762f-0d73-4ab3-82fe-39bdbe3a7291",
   "metadata": {},
   "outputs": [
    {
     "name": "stdout",
     "output_type": "stream",
     "text": [
      "76.6866028708134\n"
     ]
    }
   ],
   "source": [
    "from pandas import read_csv\n",
    "from sklearn.model_selection import KFold\n",
    "from sklearn.model_selection import cross_val_score\n",
    "from sklearn.ensemble import BaggingClassifier\n",
    "from sklearn.tree import DecisionTreeClassifier\n",
    "import warnings\n",
    "\n",
    "warnings.filterwarnings(\"ignore\")\n",
    "\n",
    "# Load data\n",
    "filename = 'pima-indians-diabetes.csv'\n",
    "names = ['preg', 'plas', 'pres', 'skin', 'test', 'mass', 'pedi', 'age', 'class']\n",
    "dataframe = read_csv(filename, names=names)\n",
    "array = dataframe.values\n",
    "X = array[:, 0:8]\n",
    "Y = array[:, 8]\n",
    "\n",
    "# Define model and evaluation procedure\n",
    "kfold = KFold(n_splits=10)\n",
    "cart = DecisionTreeClassifier()\n",
    "num_trees = 100\n",
    "\n",
    "# Update parameter 'base_estimator' to 'estimator'\n",
    "model = BaggingClassifier(estimator=cart, n_estimators=num_trees)\n",
    "\n",
    "# Evaluate model\n",
    "results = cross_val_score(model, X, Y, cv=kfold)\n",
    "print(results.mean() * 100)\n"
   ]
  },
  {
   "cell_type": "code",
   "execution_count": 28,
   "id": "df982115-a55b-4d8e-8423-63e0fe2e04a0",
   "metadata": {},
   "outputs": [
    {
     "name": "stdout",
     "output_type": "stream",
     "text": [
      "72.14114832535886\n"
     ]
    }
   ],
   "source": [
    " from pandas import read_csv\n",
    " from sklearn.model_selection import KFold\n",
    " from sklearn.model_selection import cross_val_score\n",
    " from sklearn.ensemble import BaggingClassifier\n",
    " from sklearn.discriminant_analysis import LinearDiscriminantAnalysis\n",
    " import warnings\n",
    " warnings.filterwarnings(\"ignore\")\n",
    " # load data\n",
    " filename = 'pima-indians-diabetes.csv'\n",
    " names = ['preg', 'plas', 'pres', 'skin', 'test', 'mass', 'pedi', 'age', 'class']\n",
    " dataframe = read_csv(filename, names=names)\n",
    " array = dataframe.values\n",
    " X = array[:,0:8]\n",
    " Y = array[:,8]\n",
    " kfold = KFold(n_splits=10)\n",
    " cart = DecisionTreeClassifier()\n",
    " num_trees = 10\n",
    " model = BaggingClassifier(estimator=cart, n_estimators=num_trees)\n",
    " results = cross_val_score(model, X, Y, cv=kfold)\n",
    " print(results.mean()*100)"
   ]
  },
  {
   "cell_type": "markdown",
   "id": "ef516dd3-8d51-4466-a1d8-efd435733d3e",
   "metadata": {},
   "source": [
    "# Random Forest Classification"
   ]
  },
  {
   "cell_type": "code",
   "execution_count": 29,
   "id": "c482b7b6-d263-453a-abb5-42410ec1bd33",
   "metadata": {},
   "outputs": [
    {
     "name": "stdout",
     "output_type": "stream",
     "text": [
      "76.55673274094326\n"
     ]
    }
   ],
   "source": [
    " from pandas import read_csv\n",
    " from sklearn.model_selection import KFold\n",
    " from sklearn.model_selection import cross_val_score\n",
    " from sklearn.ensemble import RandomForestClassifier\n",
    " import warnings\n",
    " warnings.filterwarnings(\"ignore\")\n",
    " # load data\n",
    " filename = 'pima-indians-diabetes.csv'\n",
    " names = ['preg', 'plas', 'pres', 'skin', 'test', 'mass', 'pedi', 'age', 'class']\n",
    " dataframe = read_csv(filename, names=names)\n",
    " array = dataframe.values\n",
    " X = array[:,0:8]\n",
    " Y = array[:,8]\n",
    " num_trees = 100\n",
    " max_features = 3\n",
    " kfold = KFold(n_splits=10)\n",
    " model = RandomForestClassifier(n_estimators=num_trees, max_features=max_features)\n",
    " results = cross_val_score(model, X, Y, cv=kfold)\n",
    " print(results.mean()*100)"
   ]
  },
  {
   "cell_type": "markdown",
   "id": "cda00988-53f2-4cc3-98e6-ec82cd9858ae",
   "metadata": {},
   "source": [
    "#  Extra Trees Classification"
   ]
  },
  {
   "cell_type": "code",
   "execution_count": 30,
   "id": "57273216-cb40-46fe-bfc5-c81ba5866c48",
   "metadata": {},
   "outputs": [
    {
     "name": "stdout",
     "output_type": "stream",
     "text": [
      "76.29186602870813\n"
     ]
    }
   ],
   "source": [
    " # Extra Trees Classification\n",
    " from pandas import read_csv\n",
    " from sklearn.model_selection import KFold\n",
    " from sklearn.model_selection import cross_val_score\n",
    " from sklearn.ensemble import ExtraTreesClassifier\n",
    " import warnings\n",
    " warnings.filterwarnings(\"ignore\")\n",
    " # load data\n",
    " filename = 'pima-indians-diabetes.csv'\n",
    " names = ['preg', 'plas', 'pres', 'skin', 'test', 'mass', 'pedi', 'age', 'class']\n",
    " dataframe = read_csv(filename, names=names)\n",
    " array = dataframe.values\n",
    " X = array[:,0:8]\n",
    " Y = array[:,8]\n",
    " num_trees = 100\n",
    " max_features = 3\n",
    " kfold = KFold(n_splits=10)\n",
    " model = ExtraTreesClassifier(n_estimators=num_trees, max_features=max_features)\n",
    " results = cross_val_score(model, X, Y, cv=kfold)\n",
    " print(results.mean()*100)"
   ]
  },
  {
   "cell_type": "markdown",
   "id": "e05ac84d-760e-40c3-b96c-b284e642a41a",
   "metadata": {},
   "source": [
    "# AdaBoost Classification"
   ]
  },
  {
   "cell_type": "code",
   "execution_count": 31,
   "id": "6a3ef0d3-fd1d-412e-9af0-697f63ccd886",
   "metadata": {},
   "outputs": [],
   "source": [
    "import warnings\n",
    "warnings.filterwarnings(\"ignore\")"
   ]
  },
  {
   "cell_type": "code",
   "execution_count": 32,
   "id": "373053ca-8201-46b1-8395-5e6b2e438377",
   "metadata": {},
   "outputs": [
    {
     "name": "stdout",
     "output_type": "stream",
     "text": [
      "76.04579630895421\n"
     ]
    }
   ],
   "source": [
    " from pandas import read_csv\n",
    " from sklearn.model_selection import KFold\n",
    " from sklearn.model_selection import cross_val_score\n",
    " from sklearn.ensemble import AdaBoostClassifier\n",
    " filename = 'pima-indians-diabetes.csv'\n",
    " names = ['preg', 'plas', 'pres', 'skin', 'test', 'mass', 'pedi', 'age', 'class']\n",
    " dataframe = read_csv(filename, names=names)\n",
    " array = dataframe.values\n",
    " X = array[:,0:8]\n",
    " Y = array[:,8]\n",
    " num_trees = 30\n",
    " kfold = KFold(n_splits=10)\n",
    " model = AdaBoostClassifier(n_estimators=num_trees)\n",
    " results = cross_val_score(model, X, Y, cv=kfold)\n",
    " print(results.mean()*100)"
   ]
  },
  {
   "cell_type": "markdown",
   "id": "4aa4a214-e646-4c3d-9aa2-b8c38df60f4c",
   "metadata": {},
   "source": [
    "# Stochastic Gradient Boosting Classification"
   ]
  },
  {
   "cell_type": "code",
   "execution_count": 33,
   "id": "2e9cb42c-86f1-4357-82d6-787c2681f2ef",
   "metadata": {},
   "outputs": [
    {
     "name": "stdout",
     "output_type": "stream",
     "text": [
      "77.20437457279563\n"
     ]
    }
   ],
   "source": [
    " from pandas import read_csv\n",
    " from sklearn.model_selection import KFold\n",
    " from sklearn.model_selection import cross_val_score\n",
    " from sklearn.ensemble import GradientBoostingClassifier\n",
    " filename = 'pima-indians-diabetes.csv'\n",
    " names = ['preg', 'plas', 'pres', 'skin', 'test', 'mass', 'pedi', 'age', 'class']\n",
    " dataframe = read_csv(filename, names=names)\n",
    " array = dataframe.values\n",
    " X = array[:,0:8]\n",
    " Y = array[:,8]\n",
    " num_trees = 80\n",
    " kfold = KFold(n_splits=10)\n",
    " model = GradientBoostingClassifier(n_estimators=num_trees)\n",
    " results = cross_val_score(model, X, Y, cv=kfold)\n",
    " print(results.mean()*100)"
   ]
  },
  {
   "cell_type": "markdown",
   "id": "09fefb38-2d23-414a-ac4d-7833a8daced9",
   "metadata": {},
   "source": [
    "# Voting Ensemble for Classification"
   ]
  },
  {
   "cell_type": "code",
   "execution_count": 34,
   "id": "3c0249ac-4833-4f9d-bcb9-22ca069998c0",
   "metadata": {},
   "outputs": [
    {
     "name": "stdout",
     "output_type": "stream",
     "text": [
      "70.12987012987013\n",
      "71.42857142857143\n",
      "70.12987012987013\n",
      "71.42857142857143\n"
     ]
    }
   ],
   "source": [
    " from pandas import read_csv\n",
    " from sklearn.model_selection import KFold\n",
    " from sklearn.model_selection import cross_val_score\n",
    " from sklearn.model_selection import train_test_split\n",
    " from sklearn.linear_model import LogisticRegression\n",
    " from sklearn.tree import DecisionTreeClassifier\n",
    " from sklearn.svm import SVC\n",
    " from sklearn.ensemble import VotingClassifier\n",
    " import warnings\n",
    " warnings.filterwarnings(\"ignore\")\n",
    " filename = 'pima-indians-diabetes.csv'\n",
    " names = ['preg', 'plas', 'pres', 'skin', 'test', 'mass', 'pedi', 'age', 'class']\n",
    " dataframe = read_csv(filename, names=names)\n",
    " array = dataframe.values\n",
    " X = array[:,0:8]\n",
    " Y = array[:,8]\n",
    " kfold = KFold(n_splits=2)\n",
    " # create the sub models\n",
    " estimators = []\n",
    " model1 = LogisticRegression()\n",
    " estimators.append(('LR', model1))\n",
    " model2 = DecisionTreeClassifier()\n",
    " estimators.append(('CART', model2))\n",
    " model3 = SVC()\n",
    " estimators.append(('svm', model3))\n",
    " # create the ensemble model\n",
    " #ensemble = VotingClassifier(estimators)\n",
    " #results = cross_val_score(ensemble, X, Y, cv=kfold)\n",
    " #print(results)\n",
    " #print(results.mean()*100)\n",
    " test_size = 0.20\n",
    " X_train, X_test, Y_train, Y_test = train_test_split(X, Y, test_size=test_size)\n",
    " #model = LogisticRegression\n",
    " model1.fit(X_train, Y_train)\n",
    " result_model1 = model1.score(X_test, Y_test)\n",
    " print(result_model1*100.0)\n",
    " model2.fit(X_train, Y_train)\n",
    " result_model2 = model2.score(X_test, Y_test)\n",
    " print(result_model2*100.0)\n",
    " model3.fit(X_train, Y_train)\n",
    " result_model3 = model3.score(X_test, Y_test)\n",
    " print(result_model1*100.0)\n",
    " ensemble = VotingClassifier(estimators,voting='hard')\n",
    " ensemble.fit(X_train, Y_train)\n",
    " result = ensemble.score(X_test, Y_test)\n",
    " print(result*100.0)"
   ]
  },
  {
   "cell_type": "markdown",
   "id": "373e56c9-cca2-4185-b728-6a20b7ff7fd6",
   "metadata": {},
   "source": [
    "#  KNN Classification with default parameters"
   ]
  },
  {
   "cell_type": "code",
   "execution_count": 35,
   "id": "2cf91f92-c153-4b52-a93c-e6fd8e2d0ce3",
   "metadata": {},
   "outputs": [
    {
     "name": "stdout",
     "output_type": "stream",
     "text": [
      "72.6555023923445\n"
     ]
    }
   ],
   "source": [
    " from pandas import read_csv\n",
    " from sklearn.model_selection import KFold\n",
    " from sklearn.model_selection import cross_val_score\n",
    " from sklearn.neighbors import KNeighborsClassifier\n",
    " filename = \"pima-indians-diabetes.csv\"\n",
    " names = [\"preg\", \"plas\", \"pres\", \"skin\", \"test\", \"mass\", \"pedi\", \"age\", \"class\"]\n",
    " dataframe = read_csv(filename, names=names)\n",
    " array = dataframe.values\n",
    " X = array[:,0:8]\n",
    " Y = array[:,8]\n",
    " num_folds = 10\n",
    " kfold = KFold(n_splits=10)\n",
    " model = KNeighborsClassifier()\n",
    " results = cross_val_score(model, X, Y, cv=kfold)\n",
    " print(results.mean()*100)"
   ]
  },
  {
   "cell_type": "markdown",
   "id": "bf0767b3-3251-4e2c-983b-ac18842605b6",
   "metadata": {},
   "source": [
    "#  KNN Classification with n_neighbors parameter tunning"
   ]
  },
  {
   "cell_type": "code",
   "execution_count": 36,
   "id": "0dcec4e5-b7cb-4394-8c35-fb009ca41c37",
   "metadata": {},
   "outputs": [
    {
     "name": "stdout",
     "output_type": "stream",
     "text": [
      "Best: 0.760390 using {'n_neighbors': 13}\n",
      "0.6913021189336979 {'n_neighbors': 1}\n",
      "0.6900034176349965 {'n_neighbors': 3}\n",
      "0.719958988380041 {'n_neighbors': 5}\n",
      "0.721308954203691 {'n_neighbors': 7}\n",
      "0.7421223513328776 {'n_neighbors': 9}\n",
      "0.7421223513328776 {'n_neighbors': 11}\n",
      "0.7603896103896105 {'n_neighbors': 13}\n",
      "0.7578263841421736 {'n_neighbors': 15}\n",
      "0.7539131920710868 {'n_neighbors': 17}\n",
      "0.746103896103896 {'n_neighbors': 19}\n",
      "0.74865003417635 {'n_neighbors': 21}\n",
      "0.7356459330143541 {'n_neighbors': 27}\n",
      "0.7382775119617225 {'n_neighbors': 33}\n"
     ]
    }
   ],
   "source": [
    " import numpy as np\n",
    "from pandas import read_csv\n",
    "from sklearn.model_selection import KFold, GridSearchCV\n",
    "from sklearn.neighbors import KNeighborsClassifier\n",
    "\n",
    "# Load the dataset\n",
    "filename = \"pima-indians-diabetes.csv\"\n",
    "names = [\"preg\", \"plas\", \"pres\", \"skin\", \"test\", \"mass\", \"pedi\", \"age\", \"class\"]\n",
    "dataframe = read_csv(filename, names=names)\n",
    "\n",
    "# Prepare data\n",
    "array = dataframe.values\n",
    "X = array[:, 0:8]  # Features\n",
    "Y = array[:, 8]    # Target\n",
    "\n",
    "# Define parameters for GridSearchCV\n",
    "num_folds = 10\n",
    "neighbors = [1, 3, 5, 7, 9, 11, 13, 15, 17, 19, 21, 27, 33]\n",
    "param_grid = dict(n_neighbors=neighbors)\n",
    "\n",
    "# Define model and cross-validation method\n",
    "model = KNeighborsClassifier()\n",
    "kfold = KFold(n_splits=num_folds, shuffle=True, random_state=1)  # Added shuffle for reproducibility\n",
    "\n",
    "# Perform Grid Search\n",
    "grid = GridSearchCV(estimator=model, param_grid=param_grid, scoring='accuracy', cv=kfold)\n",
    "grid_result = grid.fit(X, Y)\n",
    "\n",
    "# Output results\n",
    "print(\"Best: %f using %s\" % (grid_result.best_score_, grid_result.best_params_))\n",
    "means = grid_result.cv_results_['mean_test_score']\n",
    "stds = grid_result.cv_results_['std_test_score']\n",
    "params = grid_result.cv_results_['params']\n",
    "\n",
    "for mean, stdev, param in zip(means, stds, params):\n",
    "    print(mean, param)\n"
   ]
  },
  {
   "cell_type": "markdown",
   "id": "a3e91671-b7a7-432a-ae99-930eb62d611e",
   "metadata": {},
   "source": [
    "# Ridge Regression (L2 Regularization)"
   ]
  },
  {
   "cell_type": "code",
   "execution_count": 37,
   "id": "bb61fb2c-312f-49e5-a3c3-beae170e1a2e",
   "metadata": {},
   "outputs": [],
   "source": [
    "import pandas as pd"
   ]
  },
  {
   "cell_type": "code",
   "execution_count": 38,
   "id": "a24da9cf-1706-4da0-9019-a29220a43ff4",
   "metadata": {},
   "outputs": [],
   "source": [
    "df=pd.read_csv('HousingData (Boston housing dataset).csv')"
   ]
  },
  {
   "cell_type": "code",
   "execution_count": 39,
   "id": "27e916aa-d434-4cc6-9ba4-e614c27db3e0",
   "metadata": {},
   "outputs": [
    {
     "data": {
      "text/html": [
       "<div>\n",
       "<style scoped>\n",
       "    .dataframe tbody tr th:only-of-type {\n",
       "        vertical-align: middle;\n",
       "    }\n",
       "\n",
       "    .dataframe tbody tr th {\n",
       "        vertical-align: top;\n",
       "    }\n",
       "\n",
       "    .dataframe thead th {\n",
       "        text-align: right;\n",
       "    }\n",
       "</style>\n",
       "<table border=\"1\" class=\"dataframe\">\n",
       "  <thead>\n",
       "    <tr style=\"text-align: right;\">\n",
       "      <th></th>\n",
       "      <th>CRIM</th>\n",
       "      <th>ZN</th>\n",
       "      <th>INDUS</th>\n",
       "      <th>CHAS</th>\n",
       "      <th>NOX</th>\n",
       "      <th>RM</th>\n",
       "      <th>AGE</th>\n",
       "      <th>DIS</th>\n",
       "      <th>RAD</th>\n",
       "      <th>TAX</th>\n",
       "      <th>PTRATIO</th>\n",
       "      <th>B</th>\n",
       "      <th>LSTAT</th>\n",
       "      <th>MEDV</th>\n",
       "    </tr>\n",
       "  </thead>\n",
       "  <tbody>\n",
       "    <tr>\n",
       "      <th>0</th>\n",
       "      <td>0.00632</td>\n",
       "      <td>18.0</td>\n",
       "      <td>2.31</td>\n",
       "      <td>0.0</td>\n",
       "      <td>0.538</td>\n",
       "      <td>6.575</td>\n",
       "      <td>65.2</td>\n",
       "      <td>4.0900</td>\n",
       "      <td>1</td>\n",
       "      <td>296</td>\n",
       "      <td>15.3</td>\n",
       "      <td>396.90</td>\n",
       "      <td>4.98</td>\n",
       "      <td>24.0</td>\n",
       "    </tr>\n",
       "    <tr>\n",
       "      <th>1</th>\n",
       "      <td>0.02731</td>\n",
       "      <td>0.0</td>\n",
       "      <td>7.07</td>\n",
       "      <td>0.0</td>\n",
       "      <td>0.469</td>\n",
       "      <td>6.421</td>\n",
       "      <td>78.9</td>\n",
       "      <td>4.9671</td>\n",
       "      <td>2</td>\n",
       "      <td>242</td>\n",
       "      <td>17.8</td>\n",
       "      <td>396.90</td>\n",
       "      <td>9.14</td>\n",
       "      <td>21.6</td>\n",
       "    </tr>\n",
       "    <tr>\n",
       "      <th>2</th>\n",
       "      <td>0.02729</td>\n",
       "      <td>0.0</td>\n",
       "      <td>7.07</td>\n",
       "      <td>0.0</td>\n",
       "      <td>0.469</td>\n",
       "      <td>7.185</td>\n",
       "      <td>61.1</td>\n",
       "      <td>4.9671</td>\n",
       "      <td>2</td>\n",
       "      <td>242</td>\n",
       "      <td>17.8</td>\n",
       "      <td>392.83</td>\n",
       "      <td>4.03</td>\n",
       "      <td>34.7</td>\n",
       "    </tr>\n",
       "    <tr>\n",
       "      <th>3</th>\n",
       "      <td>0.03237</td>\n",
       "      <td>0.0</td>\n",
       "      <td>2.18</td>\n",
       "      <td>0.0</td>\n",
       "      <td>0.458</td>\n",
       "      <td>6.998</td>\n",
       "      <td>45.8</td>\n",
       "      <td>6.0622</td>\n",
       "      <td>3</td>\n",
       "      <td>222</td>\n",
       "      <td>18.7</td>\n",
       "      <td>394.63</td>\n",
       "      <td>2.94</td>\n",
       "      <td>33.4</td>\n",
       "    </tr>\n",
       "    <tr>\n",
       "      <th>4</th>\n",
       "      <td>0.06905</td>\n",
       "      <td>0.0</td>\n",
       "      <td>2.18</td>\n",
       "      <td>0.0</td>\n",
       "      <td>0.458</td>\n",
       "      <td>7.147</td>\n",
       "      <td>54.2</td>\n",
       "      <td>6.0622</td>\n",
       "      <td>3</td>\n",
       "      <td>222</td>\n",
       "      <td>18.7</td>\n",
       "      <td>396.90</td>\n",
       "      <td>NaN</td>\n",
       "      <td>36.2</td>\n",
       "    </tr>\n",
       "    <tr>\n",
       "      <th>...</th>\n",
       "      <td>...</td>\n",
       "      <td>...</td>\n",
       "      <td>...</td>\n",
       "      <td>...</td>\n",
       "      <td>...</td>\n",
       "      <td>...</td>\n",
       "      <td>...</td>\n",
       "      <td>...</td>\n",
       "      <td>...</td>\n",
       "      <td>...</td>\n",
       "      <td>...</td>\n",
       "      <td>...</td>\n",
       "      <td>...</td>\n",
       "      <td>...</td>\n",
       "    </tr>\n",
       "    <tr>\n",
       "      <th>501</th>\n",
       "      <td>0.06263</td>\n",
       "      <td>0.0</td>\n",
       "      <td>11.93</td>\n",
       "      <td>0.0</td>\n",
       "      <td>0.573</td>\n",
       "      <td>6.593</td>\n",
       "      <td>69.1</td>\n",
       "      <td>2.4786</td>\n",
       "      <td>1</td>\n",
       "      <td>273</td>\n",
       "      <td>21.0</td>\n",
       "      <td>391.99</td>\n",
       "      <td>NaN</td>\n",
       "      <td>22.4</td>\n",
       "    </tr>\n",
       "    <tr>\n",
       "      <th>502</th>\n",
       "      <td>0.04527</td>\n",
       "      <td>0.0</td>\n",
       "      <td>11.93</td>\n",
       "      <td>0.0</td>\n",
       "      <td>0.573</td>\n",
       "      <td>6.120</td>\n",
       "      <td>76.7</td>\n",
       "      <td>2.2875</td>\n",
       "      <td>1</td>\n",
       "      <td>273</td>\n",
       "      <td>21.0</td>\n",
       "      <td>396.90</td>\n",
       "      <td>9.08</td>\n",
       "      <td>20.6</td>\n",
       "    </tr>\n",
       "    <tr>\n",
       "      <th>503</th>\n",
       "      <td>0.06076</td>\n",
       "      <td>0.0</td>\n",
       "      <td>11.93</td>\n",
       "      <td>0.0</td>\n",
       "      <td>0.573</td>\n",
       "      <td>6.976</td>\n",
       "      <td>91.0</td>\n",
       "      <td>2.1675</td>\n",
       "      <td>1</td>\n",
       "      <td>273</td>\n",
       "      <td>21.0</td>\n",
       "      <td>396.90</td>\n",
       "      <td>5.64</td>\n",
       "      <td>23.9</td>\n",
       "    </tr>\n",
       "    <tr>\n",
       "      <th>504</th>\n",
       "      <td>0.10959</td>\n",
       "      <td>0.0</td>\n",
       "      <td>11.93</td>\n",
       "      <td>0.0</td>\n",
       "      <td>0.573</td>\n",
       "      <td>6.794</td>\n",
       "      <td>89.3</td>\n",
       "      <td>2.3889</td>\n",
       "      <td>1</td>\n",
       "      <td>273</td>\n",
       "      <td>21.0</td>\n",
       "      <td>393.45</td>\n",
       "      <td>6.48</td>\n",
       "      <td>22.0</td>\n",
       "    </tr>\n",
       "    <tr>\n",
       "      <th>505</th>\n",
       "      <td>0.04741</td>\n",
       "      <td>0.0</td>\n",
       "      <td>11.93</td>\n",
       "      <td>0.0</td>\n",
       "      <td>0.573</td>\n",
       "      <td>6.030</td>\n",
       "      <td>NaN</td>\n",
       "      <td>2.5050</td>\n",
       "      <td>1</td>\n",
       "      <td>273</td>\n",
       "      <td>21.0</td>\n",
       "      <td>396.90</td>\n",
       "      <td>7.88</td>\n",
       "      <td>11.9</td>\n",
       "    </tr>\n",
       "  </tbody>\n",
       "</table>\n",
       "<p>506 rows × 14 columns</p>\n",
       "</div>"
      ],
      "text/plain": [
       "        CRIM    ZN  INDUS  CHAS    NOX     RM   AGE     DIS  RAD  TAX  \\\n",
       "0    0.00632  18.0   2.31   0.0  0.538  6.575  65.2  4.0900    1  296   \n",
       "1    0.02731   0.0   7.07   0.0  0.469  6.421  78.9  4.9671    2  242   \n",
       "2    0.02729   0.0   7.07   0.0  0.469  7.185  61.1  4.9671    2  242   \n",
       "3    0.03237   0.0   2.18   0.0  0.458  6.998  45.8  6.0622    3  222   \n",
       "4    0.06905   0.0   2.18   0.0  0.458  7.147  54.2  6.0622    3  222   \n",
       "..       ...   ...    ...   ...    ...    ...   ...     ...  ...  ...   \n",
       "501  0.06263   0.0  11.93   0.0  0.573  6.593  69.1  2.4786    1  273   \n",
       "502  0.04527   0.0  11.93   0.0  0.573  6.120  76.7  2.2875    1  273   \n",
       "503  0.06076   0.0  11.93   0.0  0.573  6.976  91.0  2.1675    1  273   \n",
       "504  0.10959   0.0  11.93   0.0  0.573  6.794  89.3  2.3889    1  273   \n",
       "505  0.04741   0.0  11.93   0.0  0.573  6.030   NaN  2.5050    1  273   \n",
       "\n",
       "     PTRATIO       B  LSTAT  MEDV  \n",
       "0       15.3  396.90   4.98  24.0  \n",
       "1       17.8  396.90   9.14  21.6  \n",
       "2       17.8  392.83   4.03  34.7  \n",
       "3       18.7  394.63   2.94  33.4  \n",
       "4       18.7  396.90    NaN  36.2  \n",
       "..       ...     ...    ...   ...  \n",
       "501     21.0  391.99    NaN  22.4  \n",
       "502     21.0  396.90   9.08  20.6  \n",
       "503     21.0  396.90   5.64  23.9  \n",
       "504     21.0  393.45   6.48  22.0  \n",
       "505     21.0  396.90   7.88  11.9  \n",
       "\n",
       "[506 rows x 14 columns]"
      ]
     },
     "execution_count": 39,
     "metadata": {},
     "output_type": "execute_result"
    }
   ],
   "source": [
    "df"
   ]
  },
  {
   "cell_type": "code",
   "execution_count": 40,
   "id": "e88b56f8-6ef9-426b-be32-ca1158dce637",
   "metadata": {},
   "outputs": [
    {
     "data": {
      "text/plain": [
       "CRIM       20\n",
       "ZN         20\n",
       "INDUS      20\n",
       "CHAS       20\n",
       "NOX         0\n",
       "RM          0\n",
       "AGE        20\n",
       "DIS         0\n",
       "RAD         0\n",
       "TAX         0\n",
       "PTRATIO     0\n",
       "B           0\n",
       "LSTAT      20\n",
       "MEDV        0\n",
       "dtype: int64"
      ]
     },
     "execution_count": 40,
     "metadata": {},
     "output_type": "execute_result"
    }
   ],
   "source": [
    "df.isnull().sum()"
   ]
  },
  {
   "cell_type": "code",
   "execution_count": 41,
   "id": "4ca47ab8-4f32-4c66-bf47-69fa8c955e30",
   "metadata": {},
   "outputs": [],
   "source": [
    "columns=['CRIM','ZN','INDUS','CHAS','AGE','LSTAT']"
   ]
  },
  {
   "cell_type": "code",
   "execution_count": 42,
   "id": "ea0c7b63-ff05-4bb1-8977-d4e815625bb9",
   "metadata": {},
   "outputs": [],
   "source": [
    "for i in columns:\n",
    "    df[i].fillna(df[i].mean(),inplace=True)"
   ]
  },
  {
   "cell_type": "code",
   "execution_count": 43,
   "id": "148d2d2e-80c8-40d7-b3b9-139a5377607e",
   "metadata": {},
   "outputs": [
    {
     "data": {
      "text/plain": [
       "CRIM       0\n",
       "ZN         0\n",
       "INDUS      0\n",
       "CHAS       0\n",
       "NOX        0\n",
       "RM         0\n",
       "AGE        0\n",
       "DIS        0\n",
       "RAD        0\n",
       "TAX        0\n",
       "PTRATIO    0\n",
       "B          0\n",
       "LSTAT      0\n",
       "MEDV       0\n",
       "dtype: int64"
      ]
     },
     "execution_count": 43,
     "metadata": {},
     "output_type": "execute_result"
    }
   ],
   "source": [
    "df.isnull().sum()"
   ]
  },
  {
   "cell_type": "code",
   "execution_count": 44,
   "id": "e6eb5561-0c91-4bcf-9635-c1c86b9764a0",
   "metadata": {},
   "outputs": [],
   "source": [
    "df1=df.copy()"
   ]
  },
  {
   "cell_type": "code",
   "execution_count": 45,
   "id": "fbbf46ef-f293-479c-8806-84dbfed7f730",
   "metadata": {},
   "outputs": [
    {
     "name": "stdout",
     "output_type": "stream",
     "text": [
      "-34.38994343295205\n"
     ]
    }
   ],
   "source": [
    " from pandas import read_csv\n",
    " from sklearn.model_selection import KFold\n",
    " from sklearn.model_selection import cross_val_score\n",
    " from sklearn.linear_model import Ridge\n",
    " array = df1.values\n",
    " X = array[:,0:13]\n",
    " Y = array[:,13]\n",
    " num_folds = 10\n",
    " kfold = KFold(n_splits=10)\n",
    " model = Ridge(alpha=1) #L2 regularization term add here in ridge regression\n",
    " scoring = 'neg_mean_squared_error'\n",
    " results = cross_val_score(model, X, Y, cv=kfold, scoring=scoring)\n",
    " print(results.mean())"
   ]
  },
  {
   "cell_type": "markdown",
   "id": "ad01e265-2965-431f-a239-08989c7db35a",
   "metadata": {},
   "source": [
    "# 16.1 Machine Learning Algorithm Parameters"
   ]
  },
  {
   "cell_type": "markdown",
   "id": "4627894f-961f-4458-8fa9-610113b60676",
   "metadata": {},
   "source": [
    "# 16.2 Grid Search Parameter Tuning"
   ]
  },
  {
   "cell_type": "markdown",
   "id": "880657bd-9009-4768-a9d0-a6f091ecc213",
   "metadata": {},
   "source": [
    "# Grid Search for Ridge regression (L2 Regularization) Algorithm Tuning"
   ]
  },
  {
   "cell_type": "code",
   "execution_count": null,
   "id": "9cdd5a4f-81fa-46ee-bb8a-9a0bb153d9d4",
   "metadata": {},
   "outputs": [],
   "source": []
  },
  {
   "cell_type": "code",
   "execution_count": 46,
   "id": "ad4ae309-7852-4d46-a0b3-e48854e65d7b",
   "metadata": {},
   "outputs": [
    {
     "name": "stdout",
     "output_type": "stream",
     "text": [
      "mean_test_score  :  [0.37903117 0.34939971 0.34241912 0.34162221 0.34154138 0.34153239]\n",
      "std_test_score  :  [0.38094068 0.38853585 0.38918243 0.38923326 0.38923816 0.3892387 ]\n",
      "rank_test_score  :  [1 2 3 4 5 6]\n",
      "0.37903117363785627\n",
      "1.0\n"
     ]
    }
   ],
   "source": [
    " import numpy\n",
    " from pandas import read_csv\n",
    " from sklearn.linear_model import Ridge\n",
    " from sklearn.model_selection import GridSearchCV\n",
    " df2=df.copy()\n",
    " array = df2.values\n",
    " X = array[:,0:13]\n",
    " Y = array[:,13]\n",
    " alphas = numpy.array([1,0.1,0.01,0.001,0.0001,0])\n",
    " param_grid = dict(alpha=alphas) #alpha is tuning here\n",
    " model = Ridge()\n",
    " grid = GridSearchCV(estimator=model, param_grid=param_grid)\n",
    " grid.fit(X, Y)\n",
    " for i in ['mean_test_score', 'std_test_score','rank_test_score']:\n",
    "     print(i,\" : \",grid.cv_results_[i]) #the scores for all the scorers are available in the cv_re\n",
    " print(grid.best_score_) #Score of best_estimator on the left out data.\n",
    " print(grid.best_estimator_.alpha) #To observe the alpha value from best_estimato"
   ]
  },
  {
   "cell_type": "markdown",
   "id": "26c7355f-05a7-4737-b4df-35d71833cf6d",
   "metadata": {},
   "source": [
    "#  16.3 RandomSearchParameterTuning"
   ]
  },
  {
   "cell_type": "code",
   "execution_count": 2,
   "id": "ef7fff39-472d-4dea-8421-2b2d73984871",
   "metadata": {},
   "outputs": [
    {
     "name": "stdout",
     "output_type": "stream",
     "text": [
      "Best Score: 0.2761075573402853\n",
      "Best Alpha: 0.9779895119966027\n"
     ]
    }
   ],
   "source": [
    "# Randomized Search for Algorithm Tuning\n",
    "import numpy as np\n",
    "from pandas import read_csv\n",
    "from scipy.stats import uniform\n",
    "from sklearn.linear_model import Ridge\n",
    "from sklearn.model_selection import RandomizedSearchCV\n",
    "\n",
    "# Load dataset\n",
    "filename = 'pima-indians-diabetes.csv'\n",
    "names = ['preg', 'plas', 'pres', 'skin', 'test', 'mass', 'pedi', 'age', 'class']\n",
    "dataframe = read_csv(filename, names=names)\n",
    "array = dataframe.values\n",
    "\n",
    "# Split into input and output components\n",
    "X = array[:, 0:8]\n",
    "Y = array[:, 8]\n",
    "\n",
    "# Define hyperparameter grid\n",
    "param_grid = {'alpha': uniform()}\n",
    "\n",
    "# Create model\n",
    "model = Ridge()\n",
    "\n",
    "# Randomized search\n",
    "rsearch = RandomizedSearchCV(estimator=model, param_distributions=param_grid, \n",
    "                             n_iter=100, random_state=7)\n",
    "\n",
    "# Fit model\n",
    "rsearch.fit(X, Y)\n",
    "\n",
    "# Output results\n",
    "print(\"Best Score:\", rsearch.best_score_)\n",
    "print(\"Best Alpha:\", rsearch.best_estimator_.alpha)\n"
   ]
  },
  {
   "cell_type": "code",
   "execution_count": null,
   "id": "1bdfb636-1fa1-480a-bde5-8a46e0763152",
   "metadata": {},
   "outputs": [],
   "source": []
  }
 ],
 "metadata": {
  "kernelspec": {
   "display_name": "Python 3 (ipykernel)",
   "language": "python",
   "name": "python3"
  },
  "language_info": {
   "codemirror_mode": {
    "name": "ipython",
    "version": 3
   },
   "file_extension": ".py",
   "mimetype": "text/x-python",
   "name": "python",
   "nbconvert_exporter": "python",
   "pygments_lexer": "ipython3",
   "version": "3.12.3"
  }
 },
 "nbformat": 4,
 "nbformat_minor": 5
}
