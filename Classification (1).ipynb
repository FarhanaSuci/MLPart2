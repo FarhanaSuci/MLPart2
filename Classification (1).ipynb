{
 "cells": [
  {
   "cell_type": "markdown",
   "id": "629198f8-d4b8-4e8b-9490-b5c35eb7f9c2",
   "metadata": {},
   "source": [
    "# Lecture - 5"
   ]
  },
  {
   "cell_type": "code",
   "execution_count": 52,
   "id": "21a7912b-fe0d-4f7a-be12-771b97894d4b",
   "metadata": {},
   "outputs": [],
   "source": [
    "import pandas as pd"
   ]
  },
  {
   "cell_type": "code",
   "execution_count": 53,
   "id": "10359459-90b3-41f4-a1e9-851884cf9069",
   "metadata": {},
   "outputs": [],
   "source": [
    "names = ['preg', 'plas', 'pres', 'skin', 'test', 'mass', 'pedi', 'age', 'class']"
   ]
  },
  {
   "cell_type": "code",
   "execution_count": 54,
   "id": "71da44ef-2c04-48d1-9a58-2a5c0b172336",
   "metadata": {},
   "outputs": [],
   "source": [
    "df=pd.read_csv('pima-indians-diabetes.csv',names=names)"
   ]
  },
  {
   "cell_type": "code",
   "execution_count": 55,
   "id": "a6bd862b-cb7f-4d0d-9bca-ab2b76a0968c",
   "metadata": {},
   "outputs": [
    {
     "data": {
      "text/html": [
       "<div>\n",
       "<style scoped>\n",
       "    .dataframe tbody tr th:only-of-type {\n",
       "        vertical-align: middle;\n",
       "    }\n",
       "\n",
       "    .dataframe tbody tr th {\n",
       "        vertical-align: top;\n",
       "    }\n",
       "\n",
       "    .dataframe thead th {\n",
       "        text-align: right;\n",
       "    }\n",
       "</style>\n",
       "<table border=\"1\" class=\"dataframe\">\n",
       "  <thead>\n",
       "    <tr style=\"text-align: right;\">\n",
       "      <th></th>\n",
       "      <th>preg</th>\n",
       "      <th>plas</th>\n",
       "      <th>pres</th>\n",
       "      <th>skin</th>\n",
       "      <th>test</th>\n",
       "      <th>mass</th>\n",
       "      <th>pedi</th>\n",
       "      <th>age</th>\n",
       "      <th>class</th>\n",
       "    </tr>\n",
       "  </thead>\n",
       "  <tbody>\n",
       "    <tr>\n",
       "      <th>0</th>\n",
       "      <td>6</td>\n",
       "      <td>148</td>\n",
       "      <td>72</td>\n",
       "      <td>35</td>\n",
       "      <td>0</td>\n",
       "      <td>33.6</td>\n",
       "      <td>0.627</td>\n",
       "      <td>50</td>\n",
       "      <td>1</td>\n",
       "    </tr>\n",
       "    <tr>\n",
       "      <th>1</th>\n",
       "      <td>1</td>\n",
       "      <td>85</td>\n",
       "      <td>66</td>\n",
       "      <td>29</td>\n",
       "      <td>0</td>\n",
       "      <td>26.6</td>\n",
       "      <td>0.351</td>\n",
       "      <td>31</td>\n",
       "      <td>0</td>\n",
       "    </tr>\n",
       "    <tr>\n",
       "      <th>2</th>\n",
       "      <td>8</td>\n",
       "      <td>183</td>\n",
       "      <td>64</td>\n",
       "      <td>0</td>\n",
       "      <td>0</td>\n",
       "      <td>23.3</td>\n",
       "      <td>0.672</td>\n",
       "      <td>32</td>\n",
       "      <td>1</td>\n",
       "    </tr>\n",
       "    <tr>\n",
       "      <th>3</th>\n",
       "      <td>1</td>\n",
       "      <td>89</td>\n",
       "      <td>66</td>\n",
       "      <td>23</td>\n",
       "      <td>94</td>\n",
       "      <td>28.1</td>\n",
       "      <td>0.167</td>\n",
       "      <td>21</td>\n",
       "      <td>0</td>\n",
       "    </tr>\n",
       "    <tr>\n",
       "      <th>4</th>\n",
       "      <td>0</td>\n",
       "      <td>137</td>\n",
       "      <td>40</td>\n",
       "      <td>35</td>\n",
       "      <td>168</td>\n",
       "      <td>43.1</td>\n",
       "      <td>2.288</td>\n",
       "      <td>33</td>\n",
       "      <td>1</td>\n",
       "    </tr>\n",
       "    <tr>\n",
       "      <th>...</th>\n",
       "      <td>...</td>\n",
       "      <td>...</td>\n",
       "      <td>...</td>\n",
       "      <td>...</td>\n",
       "      <td>...</td>\n",
       "      <td>...</td>\n",
       "      <td>...</td>\n",
       "      <td>...</td>\n",
       "      <td>...</td>\n",
       "    </tr>\n",
       "    <tr>\n",
       "      <th>763</th>\n",
       "      <td>10</td>\n",
       "      <td>101</td>\n",
       "      <td>76</td>\n",
       "      <td>48</td>\n",
       "      <td>180</td>\n",
       "      <td>32.9</td>\n",
       "      <td>0.171</td>\n",
       "      <td>63</td>\n",
       "      <td>0</td>\n",
       "    </tr>\n",
       "    <tr>\n",
       "      <th>764</th>\n",
       "      <td>2</td>\n",
       "      <td>122</td>\n",
       "      <td>70</td>\n",
       "      <td>27</td>\n",
       "      <td>0</td>\n",
       "      <td>36.8</td>\n",
       "      <td>0.340</td>\n",
       "      <td>27</td>\n",
       "      <td>0</td>\n",
       "    </tr>\n",
       "    <tr>\n",
       "      <th>765</th>\n",
       "      <td>5</td>\n",
       "      <td>121</td>\n",
       "      <td>72</td>\n",
       "      <td>23</td>\n",
       "      <td>112</td>\n",
       "      <td>26.2</td>\n",
       "      <td>0.245</td>\n",
       "      <td>30</td>\n",
       "      <td>0</td>\n",
       "    </tr>\n",
       "    <tr>\n",
       "      <th>766</th>\n",
       "      <td>1</td>\n",
       "      <td>126</td>\n",
       "      <td>60</td>\n",
       "      <td>0</td>\n",
       "      <td>0</td>\n",
       "      <td>30.1</td>\n",
       "      <td>0.349</td>\n",
       "      <td>47</td>\n",
       "      <td>1</td>\n",
       "    </tr>\n",
       "    <tr>\n",
       "      <th>767</th>\n",
       "      <td>1</td>\n",
       "      <td>93</td>\n",
       "      <td>70</td>\n",
       "      <td>31</td>\n",
       "      <td>0</td>\n",
       "      <td>30.4</td>\n",
       "      <td>0.315</td>\n",
       "      <td>23</td>\n",
       "      <td>0</td>\n",
       "    </tr>\n",
       "  </tbody>\n",
       "</table>\n",
       "<p>768 rows × 9 columns</p>\n",
       "</div>"
      ],
      "text/plain": [
       "     preg  plas  pres  skin  test  mass   pedi  age  class\n",
       "0       6   148    72    35     0  33.6  0.627   50      1\n",
       "1       1    85    66    29     0  26.6  0.351   31      0\n",
       "2       8   183    64     0     0  23.3  0.672   32      1\n",
       "3       1    89    66    23    94  28.1  0.167   21      0\n",
       "4       0   137    40    35   168  43.1  2.288   33      1\n",
       "..    ...   ...   ...   ...   ...   ...    ...  ...    ...\n",
       "763    10   101    76    48   180  32.9  0.171   63      0\n",
       "764     2   122    70    27     0  36.8  0.340   27      0\n",
       "765     5   121    72    23   112  26.2  0.245   30      0\n",
       "766     1   126    60     0     0  30.1  0.349   47      1\n",
       "767     1    93    70    31     0  30.4  0.315   23      0\n",
       "\n",
       "[768 rows x 9 columns]"
      ]
     },
     "execution_count": 55,
     "metadata": {},
     "output_type": "execute_result"
    }
   ],
   "source": [
    "df"
   ]
  },
  {
   "cell_type": "code",
   "execution_count": 56,
   "id": "5ad990be-dfaa-40ab-a3f1-650495918b41",
   "metadata": {},
   "outputs": [
    {
     "data": {
      "text/plain": [
       "(768, 9)"
      ]
     },
     "execution_count": 56,
     "metadata": {},
     "output_type": "execute_result"
    }
   ],
   "source": [
    "df.shape"
   ]
  },
  {
   "cell_type": "code",
   "execution_count": 57,
   "id": "5efc52ef-fe0d-41e5-9fe8-b618669cd552",
   "metadata": {},
   "outputs": [
    {
     "data": {
      "text/html": [
       "<div>\n",
       "<style scoped>\n",
       "    .dataframe tbody tr th:only-of-type {\n",
       "        vertical-align: middle;\n",
       "    }\n",
       "\n",
       "    .dataframe tbody tr th {\n",
       "        vertical-align: top;\n",
       "    }\n",
       "\n",
       "    .dataframe thead th {\n",
       "        text-align: right;\n",
       "    }\n",
       "</style>\n",
       "<table border=\"1\" class=\"dataframe\">\n",
       "  <thead>\n",
       "    <tr style=\"text-align: right;\">\n",
       "      <th></th>\n",
       "      <th>preg</th>\n",
       "      <th>plas</th>\n",
       "      <th>pres</th>\n",
       "      <th>skin</th>\n",
       "      <th>test</th>\n",
       "      <th>mass</th>\n",
       "      <th>pedi</th>\n",
       "      <th>age</th>\n",
       "      <th>class</th>\n",
       "    </tr>\n",
       "  </thead>\n",
       "  <tbody>\n",
       "    <tr>\n",
       "      <th>0</th>\n",
       "      <td>6</td>\n",
       "      <td>148</td>\n",
       "      <td>72</td>\n",
       "      <td>35</td>\n",
       "      <td>0</td>\n",
       "      <td>33.6</td>\n",
       "      <td>0.627</td>\n",
       "      <td>50</td>\n",
       "      <td>1</td>\n",
       "    </tr>\n",
       "    <tr>\n",
       "      <th>1</th>\n",
       "      <td>1</td>\n",
       "      <td>85</td>\n",
       "      <td>66</td>\n",
       "      <td>29</td>\n",
       "      <td>0</td>\n",
       "      <td>26.6</td>\n",
       "      <td>0.351</td>\n",
       "      <td>31</td>\n",
       "      <td>0</td>\n",
       "    </tr>\n",
       "    <tr>\n",
       "      <th>2</th>\n",
       "      <td>8</td>\n",
       "      <td>183</td>\n",
       "      <td>64</td>\n",
       "      <td>0</td>\n",
       "      <td>0</td>\n",
       "      <td>23.3</td>\n",
       "      <td>0.672</td>\n",
       "      <td>32</td>\n",
       "      <td>1</td>\n",
       "    </tr>\n",
       "    <tr>\n",
       "      <th>3</th>\n",
       "      <td>1</td>\n",
       "      <td>89</td>\n",
       "      <td>66</td>\n",
       "      <td>23</td>\n",
       "      <td>94</td>\n",
       "      <td>28.1</td>\n",
       "      <td>0.167</td>\n",
       "      <td>21</td>\n",
       "      <td>0</td>\n",
       "    </tr>\n",
       "    <tr>\n",
       "      <th>4</th>\n",
       "      <td>0</td>\n",
       "      <td>137</td>\n",
       "      <td>40</td>\n",
       "      <td>35</td>\n",
       "      <td>168</td>\n",
       "      <td>43.1</td>\n",
       "      <td>2.288</td>\n",
       "      <td>33</td>\n",
       "      <td>1</td>\n",
       "    </tr>\n",
       "  </tbody>\n",
       "</table>\n",
       "</div>"
      ],
      "text/plain": [
       "   preg  plas  pres  skin  test  mass   pedi  age  class\n",
       "0     6   148    72    35     0  33.6  0.627   50      1\n",
       "1     1    85    66    29     0  26.6  0.351   31      0\n",
       "2     8   183    64     0     0  23.3  0.672   32      1\n",
       "3     1    89    66    23    94  28.1  0.167   21      0\n",
       "4     0   137    40    35   168  43.1  2.288   33      1"
      ]
     },
     "execution_count": 57,
     "metadata": {},
     "output_type": "execute_result"
    }
   ],
   "source": [
    "df.head()"
   ]
  },
  {
   "cell_type": "code",
   "execution_count": 58,
   "id": "b2936170-846f-4d34-bb91-dc09ef97c20c",
   "metadata": {},
   "outputs": [
    {
     "data": {
      "text/html": [
       "<div>\n",
       "<style scoped>\n",
       "    .dataframe tbody tr th:only-of-type {\n",
       "        vertical-align: middle;\n",
       "    }\n",
       "\n",
       "    .dataframe tbody tr th {\n",
       "        vertical-align: top;\n",
       "    }\n",
       "\n",
       "    .dataframe thead th {\n",
       "        text-align: right;\n",
       "    }\n",
       "</style>\n",
       "<table border=\"1\" class=\"dataframe\">\n",
       "  <thead>\n",
       "    <tr style=\"text-align: right;\">\n",
       "      <th></th>\n",
       "      <th>preg</th>\n",
       "      <th>plas</th>\n",
       "      <th>pres</th>\n",
       "      <th>skin</th>\n",
       "      <th>test</th>\n",
       "      <th>mass</th>\n",
       "      <th>pedi</th>\n",
       "      <th>age</th>\n",
       "      <th>class</th>\n",
       "    </tr>\n",
       "  </thead>\n",
       "  <tbody>\n",
       "    <tr>\n",
       "      <th>763</th>\n",
       "      <td>10</td>\n",
       "      <td>101</td>\n",
       "      <td>76</td>\n",
       "      <td>48</td>\n",
       "      <td>180</td>\n",
       "      <td>32.9</td>\n",
       "      <td>0.171</td>\n",
       "      <td>63</td>\n",
       "      <td>0</td>\n",
       "    </tr>\n",
       "    <tr>\n",
       "      <th>764</th>\n",
       "      <td>2</td>\n",
       "      <td>122</td>\n",
       "      <td>70</td>\n",
       "      <td>27</td>\n",
       "      <td>0</td>\n",
       "      <td>36.8</td>\n",
       "      <td>0.340</td>\n",
       "      <td>27</td>\n",
       "      <td>0</td>\n",
       "    </tr>\n",
       "    <tr>\n",
       "      <th>765</th>\n",
       "      <td>5</td>\n",
       "      <td>121</td>\n",
       "      <td>72</td>\n",
       "      <td>23</td>\n",
       "      <td>112</td>\n",
       "      <td>26.2</td>\n",
       "      <td>0.245</td>\n",
       "      <td>30</td>\n",
       "      <td>0</td>\n",
       "    </tr>\n",
       "    <tr>\n",
       "      <th>766</th>\n",
       "      <td>1</td>\n",
       "      <td>126</td>\n",
       "      <td>60</td>\n",
       "      <td>0</td>\n",
       "      <td>0</td>\n",
       "      <td>30.1</td>\n",
       "      <td>0.349</td>\n",
       "      <td>47</td>\n",
       "      <td>1</td>\n",
       "    </tr>\n",
       "    <tr>\n",
       "      <th>767</th>\n",
       "      <td>1</td>\n",
       "      <td>93</td>\n",
       "      <td>70</td>\n",
       "      <td>31</td>\n",
       "      <td>0</td>\n",
       "      <td>30.4</td>\n",
       "      <td>0.315</td>\n",
       "      <td>23</td>\n",
       "      <td>0</td>\n",
       "    </tr>\n",
       "  </tbody>\n",
       "</table>\n",
       "</div>"
      ],
      "text/plain": [
       "     preg  plas  pres  skin  test  mass   pedi  age  class\n",
       "763    10   101    76    48   180  32.9  0.171   63      0\n",
       "764     2   122    70    27     0  36.8  0.340   27      0\n",
       "765     5   121    72    23   112  26.2  0.245   30      0\n",
       "766     1   126    60     0     0  30.1  0.349   47      1\n",
       "767     1    93    70    31     0  30.4  0.315   23      0"
      ]
     },
     "execution_count": 58,
     "metadata": {},
     "output_type": "execute_result"
    }
   ],
   "source": [
    "df.tail()"
   ]
  },
  {
   "cell_type": "markdown",
   "id": "37f3dabd-487a-48fe-b658-59368ef1be0a",
   "metadata": {},
   "source": [
    "# 11.2 Algorithms Overview"
   ]
  },
  {
   "cell_type": "markdown",
   "id": "0488356e-7add-4575-9492-9a12500623a9",
   "metadata": {},
   "source": [
    "**We are going to take a look at six classi cation algorithms that you can spot-check on your\n",
    " dataset. Starting with two linear machine learning algorithms:**"
   ]
  },
  {
   "cell_type": "markdown",
   "id": "d2148492-f915-42af-b729-6e7f4e289b80",
   "metadata": {},
   "source": [
    "1.Logistic Regression."
   ]
  },
  {
   "cell_type": "markdown",
   "id": "b2e8bd6d-d99a-4475-a7e0-5cc680844dd8",
   "metadata": {},
   "source": [
    "2.Linear Discriminant Analysis."
   ]
  },
  {
   "cell_type": "markdown",
   "id": "33f62e93-52ac-4fab-bce4-b4dff713cf82",
   "metadata": {},
   "source": [
    "**Then looking at four nonlinear machine learning algorithms:**"
   ]
  },
  {
   "cell_type": "markdown",
   "id": "c372f9d7-57f2-4d24-ac11-2876b718096c",
   "metadata": {},
   "source": [
    "1.k-Nearest Neighbors"
   ]
  },
  {
   "cell_type": "markdown",
   "id": "bb19b294-3324-4d8a-b0e0-f88a2e271835",
   "metadata": {},
   "source": [
    "2.Naive Bayes."
   ]
  },
  {
   "cell_type": "markdown",
   "id": "e89c9732-fb71-4679-b284-b899d95f6ecc",
   "metadata": {},
   "source": [
    "3.Classification and Regression Trees."
   ]
  },
  {
   "cell_type": "markdown",
   "id": "17d4292c-ef97-47b8-b119-7b8cb5f4505e",
   "metadata": {},
   "source": [
    "4.Support Vector Machines."
   ]
  },
  {
   "cell_type": "markdown",
   "id": "616abf22-0e55-40e7-aa23-3da86694fc16",
   "metadata": {},
   "source": [
    "# 11.3 Linear Machine Learning Algorithms"
   ]
  },
  {
   "cell_type": "markdown",
   "id": "27ff529a-cf81-48f7-93b9-a79a5f780e26",
   "metadata": {},
   "source": [
    "**11.3.1 Logistic Regression**"
   ]
  },
  {
   "cell_type": "code",
   "execution_count": 59,
   "id": "6b5837df-5151-4f7f-95a9-c25f754cb34f",
   "metadata": {},
   "outputs": [],
   "source": [
    "import warnings\n",
    "warnings.filterwarnings(\"ignore\")"
   ]
  },
  {
   "cell_type": "code",
   "execution_count": 60,
   "id": "3051876f-497a-40b3-8167-55eaa9bf16b8",
   "metadata": {},
   "outputs": [
    {
     "name": "stdout",
     "output_type": "stream",
     "text": [
      "0.7786397812713604\n"
     ]
    }
   ],
   "source": [
    " # Logistic Regression Classification\n",
    " from pandas import read_csv\n",
    " from sklearn.model_selection import KFold\n",
    " from sklearn.model_selection import cross_val_score\n",
    " from sklearn.linear_model import LogisticRegression\n",
    " array = df.values\n",
    " X = array[:,0:8]\n",
    " Y = array[:,8]\n",
    " num_folds = 10\n",
    " kfold = KFold(n_splits=10, random_state=7,shuffle=True)\n",
    " model = LogisticRegression()\n",
    " results = cross_val_score(model, X, Y, cv=kfold)\n",
    " print(results.mean())"
   ]
  },
  {
   "cell_type": "markdown",
   "id": "2be889f2-6950-4e2f-9986-383f51339996",
   "metadata": {},
   "source": [
    "# 11.3.2 Linear Discriminant Analysis"
   ]
  },
  {
   "cell_type": "code",
   "execution_count": 61,
   "id": "e8f1dc98-0222-4c08-9930-b40c8f235125",
   "metadata": {},
   "outputs": [
    {
     "name": "stdout",
     "output_type": "stream",
     "text": [
      "0.7786397812713604\n",
      "0.7669685577580315\n"
     ]
    }
   ],
   "source": [
    " #LDA Classification\n",
    " from pandas import read_csv\n",
    " from sklearn.model_selection import KFold\n",
    " from sklearn.model_selection import cross_val_score\n",
    " from sklearn.discriminant_analysis import LinearDiscriminantAnalysis\n",
    " array = df.values\n",
    " X = array[:,0:8]\n",
    " Y = array[:,8]\n",
    " num_folds = 10\n",
    " kfold = KFold(n_splits=10, random_state=7,shuffle=True)\n",
    " model = LogisticRegression()\n",
    " results = cross_val_score(model, X, Y, cv=kfold)\n",
    " print(results.mean())\n",
    " from pandas import read_csv\n",
    " from sklearn.model_selection import KFold\n",
    " from sklearn.model_selection import cross_val_score\n",
    " array = df.values\n",
    " X = array[:,0:8]\n",
    " Y = array[:,8]\n",
    " num_folds = 10\n",
    " kfold = KFold(n_splits=10, random_state=7,shuffle=True)\n",
    " model = LinearDiscriminantAnalysis()\n",
    " results = cross_val_score(model, X, Y, cv=kfold)\n",
    " print(results.mean())"
   ]
  },
  {
   "cell_type": "markdown",
   "id": "8d45e4d7-7c1c-47e3-9add-03d2ecaa0011",
   "metadata": {},
   "source": [
    "#  11.4 Nonlinear Machine Learning Algorithms"
   ]
  },
  {
   "cell_type": "markdown",
   "id": "5c1b4d68-8f00-448d-b799-474b845a579f",
   "metadata": {},
   "source": [
    "**11.4.1 k-Nearest Neighbors**"
   ]
  },
  {
   "cell_type": "code",
   "execution_count": 62,
   "id": "3a74f9d2-c740-43c0-a356-d18a559eda94",
   "metadata": {},
   "outputs": [],
   "source": [
    "import pandas as pd"
   ]
  },
  {
   "cell_type": "code",
   "execution_count": null,
   "id": "7116a51b-d36b-4e62-a84e-5eec091d9b2a",
   "metadata": {},
   "outputs": [],
   "source": []
  },
  {
   "cell_type": "code",
   "execution_count": 63,
   "id": "f79b4352-6e7f-4d67-a47d-08cb61f9bad2",
   "metadata": {},
   "outputs": [
    {
     "name": "stdout",
     "output_type": "stream",
     "text": [
      "0.7109876965140123\n"
     ]
    }
   ],
   "source": [
    " # KNN Classification\n",
    " from pandas import read_csv\n",
    " from sklearn.model_selection import KFold\n",
    " from sklearn.model_selection import cross_val_score\n",
    " from sklearn.neighbors import KNeighborsClassifier\n",
    " array = df.values\n",
    " X = array[:,0:8]\n",
    " Y = array[:,8]\n",
    " num_folds = 7\n",
    " kfold = KFold(n_splits=10, random_state=7,shuffle=True)\n",
    " model = KNeighborsClassifier()\n",
    " results = cross_val_score(model, X, Y, cv=kfold)\n",
    " print(results.mean())"
   ]
  },
  {
   "cell_type": "markdown",
   "id": "462cff41-d060-4c45-9692-52af219281c4",
   "metadata": {},
   "source": [
    "**11.4.2 Naive Bayes**"
   ]
  },
  {
   "cell_type": "code",
   "execution_count": 64,
   "id": "cdcb3da5-ba6d-434b-b12d-67883083b355",
   "metadata": {},
   "outputs": [
    {
     "name": "stdout",
     "output_type": "stream",
     "text": [
      "0.7591421736158578\n"
     ]
    }
   ],
   "source": [
    " # Gaussian Naive Bayes Classification\n",
    " from pandas import read_csv\n",
    " from sklearn.model_selection import KFold\n",
    " from sklearn.model_selection import cross_val_score\n",
    " from sklearn.naive_bayes import GaussianNB\n",
    " array = df.values\n",
    " X = array[:,0:8]\n",
    " Y = array[:,8]\n",
    " num_folds = 10\n",
    " kfold = KFold(n_splits=10, random_state=7,shuffle=True)\n",
    " model = GaussianNB() \n",
    " results = cross_val_score(model, X, Y, cv=kfold)\n",
    " print(results.mean())"
   ]
  },
  {
   "cell_type": "markdown",
   "id": "f500e7b5-e4a7-4c43-a68e-00cd130e34ca",
   "metadata": {},
   "source": [
    "**11.4.3 Classification and Regression Trees**"
   ]
  },
  {
   "cell_type": "code",
   "execution_count": 65,
   "id": "68d72538-5477-4696-9bac-11abb2b1b6f2",
   "metadata": {},
   "outputs": [
    {
     "name": "stdout",
     "output_type": "stream",
     "text": [
      "0.6876452494873547\n"
     ]
    }
   ],
   "source": [
    " # CART Classification\n",
    " from pandas import read_csv\n",
    " from sklearn.model_selection import KFold\n",
    " from sklearn.model_selection import cross_val_score\n",
    " from sklearn.tree import DecisionTreeClassifier\n",
    " array = df.values\n",
    " X = array[:,0:8]\n",
    " Y = array[:,8]\n",
    " num_folds = 10\n",
    " kfold = KFold(n_splits=10, random_state=7,shuffle=True)\n",
    " model = DecisionTreeClassifier() \n",
    " results = cross_val_score(model, X, Y, cv=kfold)\n",
    " print(results.mean())"
   ]
  },
  {
   "cell_type": "markdown",
   "id": "c916d9a3-43d8-4153-88a6-910cae196f8d",
   "metadata": {},
   "source": [
    "**11.4.4 Support Vector Machines**"
   ]
  },
  {
   "cell_type": "code",
   "execution_count": 66,
   "id": "ce0a88d7-908c-4075-9a2c-f6b844c031ea",
   "metadata": {},
   "outputs": [],
   "source": [
    "import pandas as pd"
   ]
  },
  {
   "cell_type": "code",
   "execution_count": 67,
   "id": "8970bafc-11f6-4149-903f-044a954dfc11",
   "metadata": {},
   "outputs": [
    {
     "name": "stdout",
     "output_type": "stream",
     "text": [
      "0.760457963089542\n"
     ]
    }
   ],
   "source": [
    " # SVM Classification\n",
    " from pandas import read_csv\n",
    " from sklearn.model_selection import KFold\n",
    " from sklearn.model_selection import cross_val_score\n",
    " from sklearn.svm import SVC\n",
    " array = df.values\n",
    " X = array[:,0:8]\n",
    " Y = array[:,8]\n",
    " num_folds = 10\n",
    " kfold = KFold(n_splits=10, random_state=7,shuffle=True)\n",
    " model =  model = SVC()\n",
    " results = cross_val_score(model, X, Y, cv=kfold)\n",
    " print(results.mean())"
   ]
  },
  {
   "cell_type": "code",
   "execution_count": null,
   "id": "5ae301a3-06c8-48ea-83e1-29719a735e85",
   "metadata": {},
   "outputs": [],
   "source": []
  }
 ],
 "metadata": {
  "kernelspec": {
   "display_name": "Python 3 (ipykernel)",
   "language": "python",
   "name": "python3"
  },
  "language_info": {
   "codemirror_mode": {
    "name": "ipython",
    "version": 3
   },
   "file_extension": ".py",
   "mimetype": "text/x-python",
   "name": "python",
   "nbconvert_exporter": "python",
   "pygments_lexer": "ipython3",
   "version": "3.12.3"
  }
 },
 "nbformat": 4,
 "nbformat_minor": 5
}
