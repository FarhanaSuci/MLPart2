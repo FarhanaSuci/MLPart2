{
 "cells": [
  {
   "cell_type": "markdown",
   "id": "0770723d-79b6-44e8-8b08-adea4ae0c567",
   "metadata": {},
   "source": [
    "# Chapter 12"
   ]
  },
  {
   "cell_type": "markdown",
   "id": "e10ef90e-bb90-4d0c-a656-34afd9e02567",
   "metadata": {},
   "source": [
    "#  Spot-Check Regression Algorithms"
   ]
  },
  {
   "cell_type": "code",
   "execution_count": 8,
   "id": "32c3f3de-2985-4954-abaf-cfcb11df7b71",
   "metadata": {},
   "outputs": [],
   "source": [
    "import pandas as pd"
   ]
  },
  {
   "cell_type": "code",
   "execution_count": 9,
   "id": "dbee15e0-2c2b-4841-9e10-665d89ffcdb6",
   "metadata": {},
   "outputs": [],
   "source": [
    "dataframe=pd.read_csv('weight-height.csv')"
   ]
  },
  {
   "cell_type": "code",
   "execution_count": 10,
   "id": "66f3921f-7d70-44ff-bddb-07b24120c755",
   "metadata": {},
   "outputs": [
    {
     "data": {
      "text/html": [
       "<div>\n",
       "<style scoped>\n",
       "    .dataframe tbody tr th:only-of-type {\n",
       "        vertical-align: middle;\n",
       "    }\n",
       "\n",
       "    .dataframe tbody tr th {\n",
       "        vertical-align: top;\n",
       "    }\n",
       "\n",
       "    .dataframe thead th {\n",
       "        text-align: right;\n",
       "    }\n",
       "</style>\n",
       "<table border=\"1\" class=\"dataframe\">\n",
       "  <thead>\n",
       "    <tr style=\"text-align: right;\">\n",
       "      <th></th>\n",
       "      <th>Gender</th>\n",
       "      <th>Height</th>\n",
       "      <th>Weight</th>\n",
       "    </tr>\n",
       "  </thead>\n",
       "  <tbody>\n",
       "    <tr>\n",
       "      <th>0</th>\n",
       "      <td>Male</td>\n",
       "      <td>73.847017</td>\n",
       "      <td>241.893563</td>\n",
       "    </tr>\n",
       "    <tr>\n",
       "      <th>1</th>\n",
       "      <td>Male</td>\n",
       "      <td>68.781904</td>\n",
       "      <td>162.310473</td>\n",
       "    </tr>\n",
       "    <tr>\n",
       "      <th>2</th>\n",
       "      <td>Male</td>\n",
       "      <td>74.110105</td>\n",
       "      <td>212.740856</td>\n",
       "    </tr>\n",
       "    <tr>\n",
       "      <th>3</th>\n",
       "      <td>Male</td>\n",
       "      <td>71.730978</td>\n",
       "      <td>220.042470</td>\n",
       "    </tr>\n",
       "    <tr>\n",
       "      <th>4</th>\n",
       "      <td>Male</td>\n",
       "      <td>69.881796</td>\n",
       "      <td>206.349801</td>\n",
       "    </tr>\n",
       "    <tr>\n",
       "      <th>...</th>\n",
       "      <td>...</td>\n",
       "      <td>...</td>\n",
       "      <td>...</td>\n",
       "    </tr>\n",
       "    <tr>\n",
       "      <th>9995</th>\n",
       "      <td>Female</td>\n",
       "      <td>66.172652</td>\n",
       "      <td>136.777454</td>\n",
       "    </tr>\n",
       "    <tr>\n",
       "      <th>9996</th>\n",
       "      <td>Female</td>\n",
       "      <td>67.067155</td>\n",
       "      <td>170.867906</td>\n",
       "    </tr>\n",
       "    <tr>\n",
       "      <th>9997</th>\n",
       "      <td>Female</td>\n",
       "      <td>63.867992</td>\n",
       "      <td>128.475319</td>\n",
       "    </tr>\n",
       "    <tr>\n",
       "      <th>9998</th>\n",
       "      <td>Female</td>\n",
       "      <td>69.034243</td>\n",
       "      <td>163.852461</td>\n",
       "    </tr>\n",
       "    <tr>\n",
       "      <th>9999</th>\n",
       "      <td>Female</td>\n",
       "      <td>61.944246</td>\n",
       "      <td>113.649103</td>\n",
       "    </tr>\n",
       "  </tbody>\n",
       "</table>\n",
       "<p>10000 rows × 3 columns</p>\n",
       "</div>"
      ],
      "text/plain": [
       "      Gender     Height      Weight\n",
       "0       Male  73.847017  241.893563\n",
       "1       Male  68.781904  162.310473\n",
       "2       Male  74.110105  212.740856\n",
       "3       Male  71.730978  220.042470\n",
       "4       Male  69.881796  206.349801\n",
       "...      ...        ...         ...\n",
       "9995  Female  66.172652  136.777454\n",
       "9996  Female  67.067155  170.867906\n",
       "9997  Female  63.867992  128.475319\n",
       "9998  Female  69.034243  163.852461\n",
       "9999  Female  61.944246  113.649103\n",
       "\n",
       "[10000 rows x 3 columns]"
      ]
     },
     "execution_count": 10,
     "metadata": {},
     "output_type": "execute_result"
    }
   ],
   "source": [
    "dataframe"
   ]
  },
  {
   "cell_type": "code",
   "execution_count": 11,
   "id": "b066b756-2ddd-43dc-bda5-d3c3385bceac",
   "metadata": {},
   "outputs": [
    {
     "data": {
      "text/plain": [
       "(10000, 3)"
      ]
     },
     "execution_count": 11,
     "metadata": {},
     "output_type": "execute_result"
    }
   ],
   "source": [
    "dataframe.shape"
   ]
  },
  {
   "cell_type": "code",
   "execution_count": 12,
   "id": "c2d693e0-08f9-40fa-b290-cd010c98bf88",
   "metadata": {},
   "outputs": [],
   "source": [
    "df=pd.get_dummies(dataframe)"
   ]
  },
  {
   "cell_type": "code",
   "execution_count": 13,
   "id": "94eb999d-3e01-47b7-a397-0f41bfb13583",
   "metadata": {},
   "outputs": [
    {
     "data": {
      "text/html": [
       "<div>\n",
       "<style scoped>\n",
       "    .dataframe tbody tr th:only-of-type {\n",
       "        vertical-align: middle;\n",
       "    }\n",
       "\n",
       "    .dataframe tbody tr th {\n",
       "        vertical-align: top;\n",
       "    }\n",
       "\n",
       "    .dataframe thead th {\n",
       "        text-align: right;\n",
       "    }\n",
       "</style>\n",
       "<table border=\"1\" class=\"dataframe\">\n",
       "  <thead>\n",
       "    <tr style=\"text-align: right;\">\n",
       "      <th></th>\n",
       "      <th>Height</th>\n",
       "      <th>Weight</th>\n",
       "      <th>Gender_Female</th>\n",
       "      <th>Gender_Male</th>\n",
       "    </tr>\n",
       "  </thead>\n",
       "  <tbody>\n",
       "    <tr>\n",
       "      <th>0</th>\n",
       "      <td>73.847017</td>\n",
       "      <td>241.893563</td>\n",
       "      <td>False</td>\n",
       "      <td>True</td>\n",
       "    </tr>\n",
       "    <tr>\n",
       "      <th>1</th>\n",
       "      <td>68.781904</td>\n",
       "      <td>162.310473</td>\n",
       "      <td>False</td>\n",
       "      <td>True</td>\n",
       "    </tr>\n",
       "    <tr>\n",
       "      <th>2</th>\n",
       "      <td>74.110105</td>\n",
       "      <td>212.740856</td>\n",
       "      <td>False</td>\n",
       "      <td>True</td>\n",
       "    </tr>\n",
       "    <tr>\n",
       "      <th>3</th>\n",
       "      <td>71.730978</td>\n",
       "      <td>220.042470</td>\n",
       "      <td>False</td>\n",
       "      <td>True</td>\n",
       "    </tr>\n",
       "    <tr>\n",
       "      <th>4</th>\n",
       "      <td>69.881796</td>\n",
       "      <td>206.349801</td>\n",
       "      <td>False</td>\n",
       "      <td>True</td>\n",
       "    </tr>\n",
       "    <tr>\n",
       "      <th>...</th>\n",
       "      <td>...</td>\n",
       "      <td>...</td>\n",
       "      <td>...</td>\n",
       "      <td>...</td>\n",
       "    </tr>\n",
       "    <tr>\n",
       "      <th>9995</th>\n",
       "      <td>66.172652</td>\n",
       "      <td>136.777454</td>\n",
       "      <td>True</td>\n",
       "      <td>False</td>\n",
       "    </tr>\n",
       "    <tr>\n",
       "      <th>9996</th>\n",
       "      <td>67.067155</td>\n",
       "      <td>170.867906</td>\n",
       "      <td>True</td>\n",
       "      <td>False</td>\n",
       "    </tr>\n",
       "    <tr>\n",
       "      <th>9997</th>\n",
       "      <td>63.867992</td>\n",
       "      <td>128.475319</td>\n",
       "      <td>True</td>\n",
       "      <td>False</td>\n",
       "    </tr>\n",
       "    <tr>\n",
       "      <th>9998</th>\n",
       "      <td>69.034243</td>\n",
       "      <td>163.852461</td>\n",
       "      <td>True</td>\n",
       "      <td>False</td>\n",
       "    </tr>\n",
       "    <tr>\n",
       "      <th>9999</th>\n",
       "      <td>61.944246</td>\n",
       "      <td>113.649103</td>\n",
       "      <td>True</td>\n",
       "      <td>False</td>\n",
       "    </tr>\n",
       "  </tbody>\n",
       "</table>\n",
       "<p>10000 rows × 4 columns</p>\n",
       "</div>"
      ],
      "text/plain": [
       "         Height      Weight  Gender_Female  Gender_Male\n",
       "0     73.847017  241.893563          False         True\n",
       "1     68.781904  162.310473          False         True\n",
       "2     74.110105  212.740856          False         True\n",
       "3     71.730978  220.042470          False         True\n",
       "4     69.881796  206.349801          False         True\n",
       "...         ...         ...            ...          ...\n",
       "9995  66.172652  136.777454           True        False\n",
       "9996  67.067155  170.867906           True        False\n",
       "9997  63.867992  128.475319           True        False\n",
       "9998  69.034243  163.852461           True        False\n",
       "9999  61.944246  113.649103           True        False\n",
       "\n",
       "[10000 rows x 4 columns]"
      ]
     },
     "execution_count": 13,
     "metadata": {},
     "output_type": "execute_result"
    }
   ],
   "source": [
    "df"
   ]
  },
  {
   "cell_type": "markdown",
   "id": "368f318a-a98b-43a0-bb30-a055198da6d1",
   "metadata": {},
   "source": [
    "# 12.2 Linear Machine Learning Algorithms"
   ]
  },
  {
   "cell_type": "markdown",
   "id": "db1629d0-25d3-4754-9eaa-ed8f3a5fd689",
   "metadata": {},
   "source": [
    "#  12.2.1 Linear Regression"
   ]
  },
  {
   "cell_type": "code",
   "execution_count": 14,
   "id": "ed27b260-3cd6-4b3e-8599-a04f677f47db",
   "metadata": {},
   "outputs": [
    {
     "name": "stdout",
     "output_type": "stream",
     "text": [
      "-0.08773709160118487\n"
     ]
    }
   ],
   "source": [
    " #  # Linear Regression\n",
    " from pandas import read_csv\n",
    " from sklearn.model_selection import KFold\n",
    " from sklearn.model_selection import cross_val_score\n",
    " from sklearn.linear_model import LinearRegression\n",
    " \n",
    " array = df.values\n",
    " X = array[:,0:2]\n",
    " Y = array[:,2]\n",
    " num_folds = 10\n",
    " kfold = KFold(n_splits=10, random_state=7,shuffle=True)\n",
    " model = LinearRegression()\n",
    " scoring = 'neg_mean_squared_error'\n",
    " results = cross_val_score(model, X, Y, cv=kfold, scoring=scoring)\n",
    " print(results.mean())"
   ]
  },
  {
   "cell_type": "markdown",
   "id": "37dde438-d3bc-4eb6-b17d-f97adf8b6dd4",
   "metadata": {},
   "source": [
    "#  12.2.2 Ridge Regression"
   ]
  },
  {
   "cell_type": "code",
   "execution_count": 15,
   "id": "372f4ed0-674f-44af-95fe-a42318df8c71",
   "metadata": {},
   "outputs": [
    {
     "name": "stdout",
     "output_type": "stream",
     "text": [
      "-0.08773709135714662\n"
     ]
    }
   ],
   "source": [
    " # Ridge Regression\n",
    " from pandas import read_csv\n",
    " from sklearn.model_selection import KFold\n",
    " from sklearn.model_selection import cross_val_score\n",
    " from sklearn.linear_model import Ridge\n",
    " \n",
    " array = df.values\n",
    " X = array[:,0:2]\n",
    " Y = array[:,2]\n",
    " num_folds = 10\n",
    " kfold = KFold(n_splits=10, random_state=7,shuffle=True)\n",
    " model = Ridge()\n",
    " scoring = 'neg_mean_squared_error'\n",
    " results = cross_val_score(model, X, Y, cv=kfold, scoring=scoring)\n",
    " print(results.mean())"
   ]
  },
  {
   "cell_type": "markdown",
   "id": "4f56234f-2b6e-4508-9111-5d8c7d6acc14",
   "metadata": {},
   "source": [
    "# 12.2.3 LASSO Regression"
   ]
  },
  {
   "cell_type": "code",
   "execution_count": 17,
   "id": "46e10d57-ebc1-45a9-8456-1161fbdcb8cd",
   "metadata": {},
   "outputs": [
    {
     "name": "stdout",
     "output_type": "stream",
     "text": [
      "-0.09230503792082191\n"
     ]
    }
   ],
   "source": [
    " #  # Lasso Regression\n",
    " from pandas import read_csv\n",
    " from sklearn.model_selection import KFold\n",
    " from sklearn.model_selection import cross_val_score\n",
    " from sklearn.linear_model import Lasso\n",
    " \n",
    " array = df.values\n",
    " X = array[:,0:2]\n",
    " Y = array[:,2]\n",
    " num_folds = 10\n",
    " kfold = KFold(n_splits=10, random_state=7,shuffle=True)\n",
    " model = Lasso()\n",
    " scoring = 'neg_mean_squared_error'\n",
    " results = cross_val_score(model, X, Y, cv=kfold, scoring=scoring)\n",
    " print(results.mean())"
   ]
  },
  {
   "cell_type": "markdown",
   "id": "b5bd98ce-4c60-45ad-a2e4-bc363c5c60d9",
   "metadata": {},
   "source": [
    "#  12.2.4 ElasticNet Regression"
   ]
  },
  {
   "cell_type": "code",
   "execution_count": 19,
   "id": "af10efdb-bf07-406e-a196-6533c0e0d864",
   "metadata": {},
   "outputs": [
    {
     "name": "stdout",
     "output_type": "stream",
     "text": [
      "-0.09158473892033617\n"
     ]
    }
   ],
   "source": [
    " # ElasticNet Regression\n",
    " from pandas import read_csv\n",
    " from sklearn.model_selection import KFold\n",
    " from sklearn.model_selection import cross_val_score\n",
    " from sklearn.linear_model import ElasticNet\n",
    " \n",
    " array = df.values\n",
    " X = array[:,0:2]\n",
    " Y = array[:,2]\n",
    " num_folds = 10\n",
    " kfold = KFold(n_splits=10, random_state=7,shuffle=True)\n",
    " model =  ElasticNet()\n",
    " scoring = 'neg_mean_squared_error'\n",
    " results = cross_val_score(model, X, Y, cv=kfold, scoring=scoring)\n",
    " print(results.mean())"
   ]
  },
  {
   "cell_type": "markdown",
   "id": "4916997f-d6c8-48e0-bdf0-d6850fdb2cc9",
   "metadata": {},
   "source": [
    "# 12.3 Nonlinear Machine Learning Algorithms"
   ]
  },
  {
   "cell_type": "markdown",
   "id": "cdb83c2e-7836-4804-874d-b8f5638cb090",
   "metadata": {},
   "source": [
    "#  12.3.1 K-Nearest Neighbors"
   ]
  },
  {
   "cell_type": "code",
   "execution_count": 20,
   "id": "ae5ed355-2752-4c5c-bea2-abbca9edbe4d",
   "metadata": {},
   "outputs": [
    {
     "name": "stdout",
     "output_type": "stream",
     "text": [
      "-0.07405600000000001\n"
     ]
    }
   ],
   "source": [
    " # KNN Regression\n",
    " from pandas import read_csv\n",
    " from sklearn.model_selection import KFold\n",
    " from sklearn.model_selection import cross_val_score\n",
    " from sklearn.neighbors import KNeighborsRegressor\n",
    " \n",
    " array = df.values\n",
    " X = array[:,0:2]\n",
    " Y = array[:,2]\n",
    " num_folds = 10\n",
    " kfold = KFold(n_splits=10, random_state=7,shuffle=True)\n",
    " model = KNeighborsRegressor()\n",
    " scoring = 'neg_mean_squared_error'\n",
    " results = cross_val_score(model, X, Y, cv=kfold, scoring=scoring)\n",
    " print(results.mean())"
   ]
  },
  {
   "cell_type": "markdown",
   "id": "3ba96d7d-4cd8-4c2a-bc5a-ac0e9e2e7e1a",
   "metadata": {},
   "source": [
    "# 12.3.2 Classification and Regression Trees"
   ]
  },
  {
   "cell_type": "code",
   "execution_count": 21,
   "id": "c1fce619-3611-45cb-9210-3ea53d5f3ce6",
   "metadata": {},
   "outputs": [
    {
     "name": "stdout",
     "output_type": "stream",
     "text": [
      "-0.12580000000000002\n"
     ]
    }
   ],
   "source": [
    " # KNN Regression\n",
    " from pandas import read_csv\n",
    " from sklearn.model_selection import KFold\n",
    " from sklearn.model_selection import cross_val_score\n",
    " from sklearn.tree import DecisionTreeRegressor\n",
    " \n",
    " array = df.values\n",
    " X = array[:,0:2]\n",
    " Y = array[:,2]\n",
    " num_folds = 10\n",
    " kfold = KFold(n_splits=10, random_state=7,shuffle=True)\n",
    " model = DecisionTreeRegressor()\n",
    " scoring = 'neg_mean_squared_error'\n",
    " results = cross_val_score(model, X, Y, cv=kfold, scoring=scoring)\n",
    " print(results.mean())"
   ]
  },
  {
   "cell_type": "markdown",
   "id": "004843a5-35b7-439f-a4ac-0070c41cd2a5",
   "metadata": {},
   "source": [
    "#  12.3.3 Support Vector Machines"
   ]
  },
  {
   "cell_type": "code",
   "execution_count": 22,
   "id": "f4a31370-fc31-4090-b382-f2731bfdd5a5",
   "metadata": {},
   "outputs": [
    {
     "name": "stdout",
     "output_type": "stream",
     "text": [
      "-0.06906373933385337\n"
     ]
    }
   ],
   "source": [
    " # SVM Regression\n",
    " from pandas import read_csv\n",
    " from sklearn.model_selection import KFold\n",
    " from sklearn.model_selection import cross_val_score\n",
    " from sklearn.svm import SVR\n",
    " \n",
    " array = df.values\n",
    " X = array[:,0:2]\n",
    " Y = array[:,2]\n",
    " num_folds = 10\n",
    " kfold = KFold(n_splits=10, random_state=7,shuffle=True)\n",
    " model = SVR()\n",
    " scoring = 'neg_mean_squared_error'\n",
    " results = cross_val_score(model, X, Y, cv=kfold, scoring=scoring)\n",
    " print(results.mean())"
   ]
  },
  {
   "cell_type": "code",
   "execution_count": null,
   "id": "af9a8ca7-6f6d-4030-bf55-37b81feaef9e",
   "metadata": {},
   "outputs": [],
   "source": []
  }
 ],
 "metadata": {
  "kernelspec": {
   "display_name": "Python 3 (ipykernel)",
   "language": "python",
   "name": "python3"
  },
  "language_info": {
   "codemirror_mode": {
    "name": "ipython",
    "version": 3
   },
   "file_extension": ".py",
   "mimetype": "text/x-python",
   "name": "python",
   "nbconvert_exporter": "python",
   "pygments_lexer": "ipython3",
   "version": "3.12.3"
  }
 },
 "nbformat": 4,
 "nbformat_minor": 5
}
