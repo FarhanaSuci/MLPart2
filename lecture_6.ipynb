{
 "cells": [
  {
   "cell_type": "markdown",
   "id": "f244ae9f-e2b3-4487-a1b7-1c4bd3f86e9c",
   "metadata": {},
   "source": [
    "# Chapter 13"
   ]
  },
  {
   "cell_type": "markdown",
   "id": "f3cca7fa-e93d-4215-8c46-661335a851a6",
   "metadata": {},
   "source": [
    "# Compare Machine Learning Algorithms"
   ]
  },
  {
   "cell_type": "markdown",
   "id": "759b80fb-297d-4daf-afbf-a4925b8f364a",
   "metadata": {},
   "source": [
    "1.Logistic Regression."
   ]
  },
  {
   "cell_type": "markdown",
   "id": "1a94af38-6d5a-49f6-9263-b6596eb270f1",
   "metadata": {},
   "source": [
    " 2.Linear Discriminant Analysis"
   ]
  },
  {
   "cell_type": "markdown",
   "id": "b81d3a44-37c5-44ba-b6a5-c2b62798a6ca",
   "metadata": {},
   "source": [
    "3.k-Nearest Neighbors."
   ]
  },
  {
   "cell_type": "markdown",
   "id": "3f1c2878-cdc3-4adc-bbe4-595c14aef81f",
   "metadata": {},
   "source": [
    "4.Classification and Regression Trees"
   ]
  },
  {
   "cell_type": "markdown",
   "id": "ac43ac09-b11e-4abc-b869-7d54b94a8fc4",
   "metadata": {},
   "source": [
    "5.Naive Bayes."
   ]
  },
  {
   "cell_type": "markdown",
   "id": "17ef6641-10fb-4481-ae60-af1903290b8d",
   "metadata": {},
   "source": [
    "6.Support Vector Machines."
   ]
  },
  {
   "cell_type": "code",
   "execution_count": 7,
   "id": "650b846a-53bb-4a30-be2b-0772bfff4b03",
   "metadata": {},
   "outputs": [],
   "source": [
    "import warnings\n",
    "warnings.filterwarnings(\"ignore\")"
   ]
  },
  {
   "cell_type": "code",
   "execution_count": 8,
   "id": "1961a96f-85d2-43a7-aada-6fbf7c416db8",
   "metadata": {},
   "outputs": [
    {
     "name": "stdout",
     "output_type": "stream",
     "text": [
      "LR: 0.778640 (0.047350)\n",
      "LDA: 0.766969 (0.047966)\n",
      "KNN: 0.710988 (0.050792)\n",
      "CART: 0.694122 (0.042467)\n",
      "NB: 0.759142 (0.038960)\n",
      "SVM: 0.760458 (0.034712)\n"
     ]
    },
    {
     "data": {
      "image/png": "[encoded data removed]",
      "text/plain": [
       "<Figure size 640x480 with 1 Axes>"
      ]
     },
     "metadata": {},
     "output_type": "display_data"
    }
   ],
   "source": [
    " from pandas import read_csv\n",
    " from matplotlib import pyplot\n",
    " from sklearn.model_selection import KFold\n",
    " from sklearn.model_selection import cross_val_score\n",
    " from sklearn.linear_model import LogisticRegression\n",
    " from sklearn.tree import DecisionTreeClassifier\n",
    " from sklearn.neighbors import KNeighborsClassifier\n",
    " from sklearn.discriminant_analysis import LinearDiscriminantAnalysis\n",
    " from sklearn.naive_bayes import GaussianNB\n",
    " from sklearn.svm import SVC\n",
    " # load dataset\n",
    " filename = 'pima-indians-diabetes.csv'\n",
    " names = ['preg', 'plas', 'pres', 'skin', 'test', 'mass', 'pedi', 'age', 'class']\n",
    " dataframe = read_csv(filename, names=names)\n",
    " array = dataframe.values\n",
    " X = array[:,0:8]\n",
    " Y = array[:,8]\n",
    " # prepare models\n",
    " models = []\n",
    " models.append(('LR', LogisticRegression()))\n",
    " models.append(('LDA', LinearDiscriminantAnalysis()))\n",
    " models.append(('KNN', KNeighborsClassifier()))\n",
    " models.append(('CART', DecisionTreeClassifier()))\n",
    " models.append(('NB', GaussianNB()))\n",
    " models.append(('SVM', SVC()))\n",
    " # evaluate each model in turn\n",
    " results = []\n",
    " names = []\n",
    " scoring = 'accuracy'\n",
    " for name, model in models:\n",
    "     kfold = KFold(n_splits=10, random_state=7,shuffle=True)\n",
    "     cv_results = cross_val_score(model, X, Y, cv=kfold, scoring=scoring)\n",
    "     results.append(cv_results)\n",
    "     names.append(name)\n",
    "     msg = \"%s: %f (%f)\" % (name, cv_results.mean(), cv_results.std())\n",
    "     print(msg)\n",
    " # boxplot algorithm comparison\n",
    " fig = pyplot.figure()\n",
    " fig.suptitle('Algorithm Comparison')\n",
    " ax = fig.add_subplot(111)\n",
    " pyplot.boxplot(results)\n",
    " ax.set_xticklabels(names)\n",
    " pyplot.show()"
   ]
  },
  {
   "cell_type": "code",
   "execution_count": null,
   "id": "d5690763-fcc7-494e-9e73-56fc089a2cd4",
   "metadata": {},
   "outputs": [],
   "source": []
  }
 ],
 "metadata": {
  "kernelspec": {
   "display_name": "Python 3 (ipykernel)",
   "language": "python",
   "name": "python3"
  },
  "language_info": {
   "codemirror_mode": {
    "name": "ipython",
    "version": 3
   },
   "file_extension": ".py",
   "mimetype": "text/x-python",
   "name": "python",
   "nbconvert_exporter": "python",
   "pygments_lexer": "ipython3",
   "version": "3.12.3"
  }
 },
 "nbformat": 4,
 "nbformat_minor": 5
}
