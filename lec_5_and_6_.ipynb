{
 "cells": [
  {
   "cell_type": "markdown",
   "id": "69bfe177-c5d8-4aee-b932-8214eee96886",
   "metadata": {},
   "source": [
    "# Chapter 14"
   ]
  },
  {
   "cell_type": "markdown",
   "id": "facf46df-32b6-4ab3-8a28-36d643a84720",
   "metadata": {},
   "source": [
    "# Automate Machine Learning\n",
    "# Workflows with Pipelines"
   ]
  },
  {
   "cell_type": "markdown",
   "id": "6f8cf17d-fb17-45c9-b9b8-4a6820889c94",
   "metadata": {},
   "source": [
    "14.2 Data Preparation and Modeling Pipeline"
   ]
  },
  {
   "cell_type": "markdown",
   "id": "7e4d6bf0-7e92-4515-a78b-fae31fb5ae80",
   "metadata": {},
   "source": [
    "The example below demonstrates this important data preparation and model evaluation work flow on thePima Indians onset of diabetes dataset. The pipeline is de ned with two steps:"
   ]
  },
  {
   "cell_type": "markdown",
   "id": "d8fad1b5-c155-4450-b29e-f367f7464eae",
   "metadata": {},
   "source": [
    "1.Standardize the data"
   ]
  },
  {
   "cell_type": "markdown",
   "id": "24f80bd3-5a89-4725-88a4-512161dfc5a0",
   "metadata": {},
   "source": [
    "2.Learn a Linear Discriminant Analysis model"
   ]
  },
  {
   "cell_type": "markdown",
   "id": "20774667-d835-4528-ba0e-17d3735517f1",
   "metadata": {},
   "source": [
    "The pipeline is then evaluated using 10-fold cross validation"
   ]
  },
  {
   "cell_type": "code",
   "execution_count": 4,
   "id": "b32599b0-678a-4253-8396-75347084900b",
   "metadata": {},
   "outputs": [
    {
     "name": "stdout",
     "output_type": "stream",
     "text": [
      "0.7669685577580315\n"
     ]
    }
   ],
   "source": [
    " # Create a pipeline that standardizes the data then creates a model\n",
    " from pandas import read_csv\n",
    " from sklearn.model_selection import KFold\n",
    " from sklearn.model_selection import cross_val_score\n",
    " from sklearn.preprocessing import StandardScaler\n",
    " from sklearn.pipeline import Pipeline\n",
    " from sklearn.discriminant_analysis import LinearDiscriminantAnalysis\n",
    " # load data\n",
    " filename = 'pima-indians-diabetes.csv'\n",
    " names = ['preg', 'plas', 'pres', 'skin', 'test', 'mass', 'pedi', 'age', 'class']\n",
    " dataframe = read_csv(filename, names=names)\n",
    " array = dataframe.values\n",
    " X = array[:,0:8]\n",
    " Y = array[:,8]\n",
    " # create pipeline\n",
    " estimators = []\n",
    " estimators.append(('standardize', StandardScaler()))\n",
    " estimators.append(('lda', LinearDiscriminantAnalysis()))\n",
    " model = Pipeline(estimators)\n",
    " # evaluate pipeline\n",
    " kfold = KFold(n_splits=10, random_state=7,shuffle=True)\n",
    " results = cross_val_score(model, X, Y, cv=kfold)\n",
    " print(results.mean())"
   ]
  },
  {
   "cell_type": "code",
   "execution_count": null,
   "id": "478d32ff-e352-42d9-9510-b3c1f7a6f9d3",
   "metadata": {},
   "outputs": [],
   "source": []
  }
 ],
 "metadata": {
  "kernelspec": {
   "display_name": "Python 3 (ipykernel)",
   "language": "python",
   "name": "python3"
  },
  "language_info": {
   "codemirror_mode": {
    "name": "ipython",
    "version": 3
   },
   "file_extension": ".py",
   "mimetype": "text/x-python",
   "name": "python",
   "nbconvert_exporter": "python",
   "pygments_lexer": "ipython3",
   "version": "3.12.3"
  }
 },
 "nbformat": 4,
 "nbformat_minor": 5
}
